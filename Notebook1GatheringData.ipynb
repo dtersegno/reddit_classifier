{
 "cells": [
  {
   "cell_type": "markdown",
   "id": "493b1a2e",
   "metadata": {},
   "source": [
    "---\n",
    "# Notebook 1: Gathering data\n",
    "---\n",
    "\n",
    "---\n",
    "\n",
    "David Tersegno\n",
    "\n",
    "4/1/22\n",
    "\n",
    "\n",
    "The notebook uses the PushShift API to gather post information from Reddit's r/haskell, r/lisp, and r/lua subreddits. This data comes in JSON format, which is then converted to a pandas DataFrame. The exact parameters of what data is gathered is determined by a parameter dictionary that is passed when the request is made to the PushShift API host.\n",
    "\n",
    "The repo and documentation for the API may be found here: [PushShift API](https://github.com/pushshift/api)\n",
    "\n",
    "The API only collects 100 (or sometimes fewer) posts per request. In order to get 3000 post observations (1000 from each of the above subreddits), it must be called repeatedly.\n",
    "\n",
    "The subreddit post data will be used to build a classifier model, which will be trained to predict whether a given post originated from r/haskell or r/lisp. The r/lua data collected is not used for the model, but the acquisition process and saved data is preserved for possible future use.\n",
    "\n",
    "At the end of this notebook, the gathered data is saved in `'./data/'` relative to this notebook.\n",
    "\n",
    "\n",
    "- [Import Libraries](#Import-Libraries)\n",
    "- [Function Definitions](#Function-Definitions)\n",
    "    - [get_subreddit](#get-subreddit)\n",
    "    - [deep_into_subreddit](#deep-into-subreddit)\n",
    "- [Get haskell data](#Get-haskell-data)\n",
    "- [Plot cumulative posts over time](#Plot-cumulative-posts-over-time)\n",
    "- [Plot the posting rate](#Plot-the-posting-rate)\n",
    "- [How far back in time do these posts go?](#How-far-back-in-time-do-these-posts-go?)\n",
    "- [Get Data for all subreddits](#Get-Data-for-all-subreddits)\n",
    "    - [Save and export](#Save-and-export)"
   ]
  },
  {
   "cell_type": "markdown",
   "id": "e639322c",
   "metadata": {},
   "source": [
    "---\n",
    "## Import Libraries"
   ]
  },
  {
   "cell_type": "code",
   "execution_count": 10,
   "id": "c600e8ca",
   "metadata": {},
   "outputs": [],
   "source": [
    "#import libraries\n",
    "import requests\n",
    "import pandas as pd\n",
    "import numpy as np\n",
    "import seaborn as sns\n",
    "import matplotlib.pyplot as plt\n",
    "import datetime\n",
    "\n",
    "plt.style.use('dark_background')"
   ]
  },
  {
   "cell_type": "code",
   "execution_count": 11,
   "id": "4bcd4e84",
   "metadata": {},
   "outputs": [],
   "source": [
    "#explicitly list subreddits of interest\n",
    "subreddits = ['haskell', 'lua', 'lisp']\n",
    "pushshift_url_submissions = 'https://api.pushshift.io/reddit/search/submission'\n",
    "pushshift_url_comments = 'https://api.pushshift.io/reddit/search/comment/'"
   ]
  },
  {
   "cell_type": "markdown",
   "id": "17c619d2",
   "metadata": {},
   "source": [
    "---\n",
    "---\n",
    "## Function Definitions\n",
    "---\n",
    "This section defines some functions used later."
   ]
  },
  {
   "cell_type": "markdown",
   "id": "a35f4ac7",
   "metadata": {},
   "source": [
    "### get_subreddit\n",
    "\n",
    "`get_subreddit(params, comments)` returns a pandas DataFrame of posts from requests.get() with `comments` a bool defining whether to gather comment data or normal posts.\n",
    "\n",
    "`params` is a dictionary like the following:\n",
    "```python\n",
    "h_params = { #parameters for \"submissions\" request\n",
    "    'subreddit':'haskell',\n",
    "    'size':100,\n",
    "    'aggs':'created_utc',\n",
    "    'frequency':'day',\n",
    "    'sort_type':'created_utc'\n",
    "}\n",
    "```\n",
    "\n",
    "defining the post data to capture."
   ]
  },
  {
   "cell_type": "code",
   "execution_count": 12,
   "id": "47650fff",
   "metadata": {},
   "outputs": [],
   "source": [
    "#define a data aquisition function\n",
    "def get_subreddit(params, comments = False):\n",
    "    if comments:\n",
    "        the_url = pushshift_url_comments\n",
    "    else:\n",
    "        the_url = pushshift_url_submissions\n",
    "    the_res = requests.get(the_url, params)\n",
    "    the_status = the_res.status_code\n",
    "    if the_status != 200:\n",
    "        print(f'get_subreddit(): Request status code {the_status}')\n",
    "        return None\n",
    "    else:\n",
    "        the_df = pd.DataFrame(the_res.json()['data'])\n",
    "        return the_df"
   ]
  },
  {
   "cell_type": "markdown",
   "id": "0d9112b6",
   "metadata": {},
   "source": [
    "## deep_into_subreddit\n",
    "\n",
    "Recursively collects data up to a certain number. From the outside, it works like\n",
    "get_subreddit(), returning a DataFrame, but allowing a size parameter for the PushShift API call size to be >100.\n",
    "\n",
    "It accomplishes this by repeatedly calling get_subreddit() a bunch of times.\n"
   ]
  },
  {
   "cell_type": "code",
   "execution_count": 13,
   "id": "85a07e30",
   "metadata": {},
   "outputs": [],
   "source": [
    "#returns a df as if get_subreddit(), and ultimately requests.get(), allowed the\n",
    "# size parameter to be larger than 100. This will chop off any remainder, total_size mod 100.\n",
    "def deep_into_subreddit(params: dict, comments = False, verbose = False):\n",
    "    size_left = params['size'] #grab the total size called\n",
    "    params_copy = dict(params) #copy params to use and edit ahead in repeated get_subreddit() calls\n",
    "    params_copy['size'] = 100 #set the parameter size down to 100 to use in a get_subreddit() call later\n",
    "    OK_response_code = True #will trigger the premature end of the next loop\n",
    "    df_list = [] #this will fill with dfs, each of 100 posts before the last\n",
    "    last_post_time = datetime.MAXYEAR #will keep track of the last post time,\n",
    "    last_max_index = -1 #will be used to assign indices properly\n",
    "    while(size_left >= 100 and OK_response_code): #while there are still posts to grab (and nothing's gone wrong...)\n",
    "        if size_left%500==0 and verbose:\n",
    "            print(f'{size_left} left to gather for {params[\"subreddit\"]}')\n",
    "        new_df = get_subreddit(params_copy, comments) #repeatedly call get_subreddit()...\n",
    "        size_left -= 100 # reduce the size_left by 100 each loop\n",
    "        if type(new_df) != type(pd.DataFrame([])): #check if we got values in a dataframe\n",
    "            OK_response_code = False  #end the loop if not\n",
    "            print(\"deep_into_subreddit(): API call returned nothing.\")\n",
    "        else:\n",
    "            last_post_time = new_df['created_utc'].min()# lower last_post_time to the oldest post's age\n",
    "            params_copy['before'] = last_post_time #tells the call to search for earlier posts.\n",
    "            new_df_length = len(new_df)\n",
    "            if new_df_length != 100 and verbose:\n",
    "                print(f'gathered only {len(new_df)} entries from previous call')\n",
    "            new_df.index = np.linspace(last_max_index+1,last_max_index+new_df_length, new_df_length) #assign new indices to the data so they don't interfere with the previous data\n",
    "            last_max_index = new_df.index.max() #get the largest index in the set to compare next loop\n",
    "        df_list.append(new_df) #...and append the result to the df_list.\n",
    "    concatenated_df = pd.concat(df_list) #when the loop's done, concatenate all the dfs...\n",
    "    print(f'finished gathering for {params[\"subreddit\"]}.')\n",
    "    return concatenated_df #... and return it.\n",
    "        \n",
    "    \n",
    "    "
   ]
  },
  {
   "cell_type": "markdown",
   "id": "0b2e3cf1",
   "metadata": {},
   "source": [
    "---\n",
    "## Get haskell data\n",
    "\n",
    "Gather data from r/haskell to get a sense of the format."
   ]
  },
  {
   "cell_type": "code",
   "execution_count": 14,
   "id": "fc265148",
   "metadata": {
    "scrolled": false
   },
   "outputs": [
    {
     "name": "stdout",
     "output_type": "stream",
     "text": [
      "finished gathering for haskell.\n"
     ]
    }
   ],
   "source": [
    "deep_h_params = { #create a list of params to search deeper than 100 posts\n",
    "    'subreddit':'haskell',\n",
    "    'size':500,\n",
    "    'sort_type':'created_utc',\n",
    "}\n",
    "\n",
    "#get a bunch of posts.\n",
    "my_haskell_df = deep_into_subreddit(deep_h_params)"
   ]
  },
  {
   "cell_type": "code",
   "execution_count": 15,
   "id": "71561d0d",
   "metadata": {
    "scrolled": true
   },
   "outputs": [
    {
     "name": "stdout",
     "output_type": "stream",
     "text": [
      "<class 'pandas.core.frame.DataFrame'>\n",
      "Float64Index: 500 entries, 0.0 to 499.0\n",
      "Data columns (total 79 columns):\n",
      " #   Column                         Non-Null Count  Dtype  \n",
      "---  ------                         --------------  -----  \n",
      " 0   all_awardings                  500 non-null    object \n",
      " 1   allow_live_comments            500 non-null    bool   \n",
      " 2   author                         500 non-null    object \n",
      " 3   author_flair_css_class         0 non-null      object \n",
      " 4   author_flair_richtext          500 non-null    object \n",
      " 5   author_flair_text              1 non-null      object \n",
      " 6   author_flair_type              500 non-null    object \n",
      " 7   author_fullname                500 non-null    object \n",
      " 8   author_is_blocked              500 non-null    bool   \n",
      " 9   author_patreon_flair           500 non-null    bool   \n",
      " 10  author_premium                 500 non-null    bool   \n",
      " 11  awarders                       500 non-null    object \n",
      " 12  can_mod_post                   500 non-null    bool   \n",
      " 13  contest_mode                   500 non-null    bool   \n",
      " 14  created_utc                    500 non-null    int64  \n",
      " 15  domain                         500 non-null    object \n",
      " 16  full_link                      500 non-null    object \n",
      " 17  gildings                       500 non-null    object \n",
      " 18  id                             500 non-null    object \n",
      " 19  is_created_from_ads_ui         500 non-null    bool   \n",
      " 20  is_crosspostable               500 non-null    bool   \n",
      " 21  is_meta                        500 non-null    bool   \n",
      " 22  is_original_content            500 non-null    bool   \n",
      " 23  is_reddit_media_domain         500 non-null    bool   \n",
      " 24  is_robot_indexable             500 non-null    bool   \n",
      " 25  is_self                        500 non-null    bool   \n",
      " 26  is_video                       500 non-null    bool   \n",
      " 27  link_flair_background_color    500 non-null    object \n",
      " 28  link_flair_richtext            500 non-null    object \n",
      " 29  link_flair_text_color          500 non-null    object \n",
      " 30  link_flair_type                500 non-null    object \n",
      " 31  locked                         500 non-null    bool   \n",
      " 32  media_only                     500 non-null    bool   \n",
      " 33  no_follow                      500 non-null    bool   \n",
      " 34  num_comments                   500 non-null    int64  \n",
      " 35  num_crossposts                 500 non-null    int64  \n",
      " 36  over_18                        500 non-null    bool   \n",
      " 37  parent_whitelist_status        500 non-null    object \n",
      " 38  permalink                      500 non-null    object \n",
      " 39  pinned                         500 non-null    bool   \n",
      " 40  post_hint                      158 non-null    object \n",
      " 41  preview                        158 non-null    object \n",
      " 42  pwls                           500 non-null    int64  \n",
      " 43  removed_by_category            69 non-null     object \n",
      " 44  retrieved_on                   500 non-null    int64  \n",
      " 45  score                          500 non-null    int64  \n",
      " 46  selftext                       500 non-null    object \n",
      " 47  send_replies                   500 non-null    bool   \n",
      " 48  spoiler                        500 non-null    bool   \n",
      " 49  stickied                       500 non-null    bool   \n",
      " 50  subreddit                      500 non-null    object \n",
      " 51  subreddit_id                   500 non-null    object \n",
      " 52  subreddit_subscribers          500 non-null    int64  \n",
      " 53  subreddit_type                 500 non-null    object \n",
      " 54  thumbnail                      500 non-null    object \n",
      " 55  thumbnail_height               95 non-null     float64\n",
      " 56  thumbnail_width                95 non-null     float64\n",
      " 57  title                          500 non-null    object \n",
      " 58  total_awards_received          500 non-null    int64  \n",
      " 59  treatment_tags                 500 non-null    object \n",
      " 60  upvote_ratio                   500 non-null    float64\n",
      " 61  url                            500 non-null    object \n",
      " 62  url_overridden_by_dest         148 non-null    object \n",
      " 63  whitelist_status               500 non-null    object \n",
      " 64  wls                            500 non-null    int64  \n",
      " 65  crosspost_parent               12 non-null     object \n",
      " 66  crosspost_parent_list          12 non-null     object \n",
      " 67  link_flair_template_id         168 non-null    object \n",
      " 68  link_flair_text                169 non-null    object \n",
      " 69  collections                    3 non-null      object \n",
      " 70  media_metadata                 4 non-null      object \n",
      " 71  gallery_data                   1 non-null      object \n",
      " 72  is_gallery                     1 non-null      object \n",
      " 73  media                          12 non-null     object \n",
      " 74  media_embed                    12 non-null     object \n",
      " 75  secure_media                   12 non-null     object \n",
      " 76  secure_media_embed             12 non-null     object \n",
      " 77  author_flair_background_color  1 non-null      object \n",
      " 78  author_flair_text_color        1 non-null      object \n",
      "dtypes: bool(22), float64(3), int64(9), object(45)\n",
      "memory usage: 237.3+ KB\n"
     ]
    }
   ],
   "source": [
    "#take a look at the DataFrame info: column names, non-null value count per column, and data types.\n",
    "my_haskell_df.info()"
   ]
  },
  {
   "cell_type": "markdown",
   "id": "68788fdb",
   "metadata": {},
   "source": [
    "## Plot cumulative posts over time\n",
    "\n",
    "The slope of this plot is the posting rate."
   ]
  },
  {
   "cell_type": "code",
   "execution_count": 16,
   "id": "63654b33",
   "metadata": {
    "scrolled": false
   },
   "outputs": [
    {
     "data": {
      "image/png": "[encoded data removed]",
      "text/plain": [
       "<Figure size 1080x1080 with 1 Axes>"
      ]
     },
     "metadata": {},
     "output_type": "display_data"
    }
   ],
   "source": [
    "# unfortunately can't just use .plot() on the time series --- I want the transpose of that\n",
    "plt.figure(figsize =(15,15))\n",
    "plt.scatter(my_haskell_df['created_utc'].sort_values(),np.linspace(0,500,500))\n",
    "plt.xlabel(\"post date (epoch)\")\n",
    "plt.ylabel('cumulative posts')\n",
    "plt.title('cumulative post history for r/haskell');"
   ]
  },
  {
   "cell_type": "markdown",
   "id": "fcf3a318",
   "metadata": {},
   "source": [
    "It looks like people are more likely to post during certain times. There is definitely seasonality here. It would be interesting to see what happens when we do an FFT on this data --- are there characteristic frequencies? Or just see how the function looks treated as oscillating with days, weeks, months.\n",
    "\n",
    "It may be easier to see the posting rate itself. Make a list of successive differences for the above to start constructing this."
   ]
  },
  {
   "cell_type": "markdown",
   "id": "0d8b7ae9",
   "metadata": {},
   "source": [
    "## Plot the posting rate"
   ]
  },
  {
   "cell_type": "code",
   "execution_count": 65,
   "id": "22d3cad4",
   "metadata": {},
   "outputs": [],
   "source": [
    "#construct differences in epochs\n",
    "epoch_list = list(my_haskell_df['created_utc'])\n",
    "epoch_diffs = [\n",
    "    epoch_list[index+1] - epoch_list[index]\n",
    "    for index in range(len(epoch_list)-1)\n",
    "]\n",
    "#it's one shorter than the original list."
   ]
  },
  {
   "cell_type": "code",
   "execution_count": 66,
   "id": "9a046911",
   "metadata": {},
   "outputs": [],
   "source": [
    "#construct differences in cumulative posts\n",
    "# they're all 1 post.\n",
    "post_diffs = np.ones(len(epoch_diffs))"
   ]
  },
  {
   "cell_type": "code",
   "execution_count": 67,
   "id": "bd2ffcda",
   "metadata": {},
   "outputs": [
    {
     "data": {
      "text/plain": [
       "499"
      ]
     },
     "execution_count": 67,
     "metadata": {},
     "output_type": "execute_result"
    }
   ],
   "source": [
    "len(post_rate)"
   ]
  },
  {
   "cell_type": "code",
   "execution_count": 74,
   "id": "5279ca2e",
   "metadata": {
    "scrolled": false
   },
   "outputs": [
    {
     "data": {
      "text/plain": [
       "(0.0, 0.001)"
      ]
     },
     "execution_count": 74,
     "metadata": {},
     "output_type": "execute_result"
    },
    {
     "data": {
      "image/png": "[encoded data removed]",
      "text/plain": [
       "<Figure size 864x864 with 1 Axes>"
      ]
     },
     "metadata": {},
     "output_type": "display_data"
    }
   ],
   "source": [
    "#make post_rate\n",
    "post_rate = -post_diffs / epoch_diffs\n",
    "\n",
    "#plot the post_rate\n",
    "plt.figure(figsize=(12,12));\n",
    "plt.scatter(epoch_list[:-1],post_rate);\n",
    "plt.title(\"Post rate over time.\")\n",
    "plt.ylabel(\"posts per second for r/haskell.\")\n",
    "plt.xlabel('epoch time (s)')\n",
    "plt.ylim(0,0.001)"
   ]
  },
  {
   "cell_type": "markdown",
   "id": "64d7cedd",
   "metadata": {},
   "source": [
    "It's tough to see any clear pattern by sight. We could tackle that problem in a future revision of this project."
   ]
  },
  {
   "cell_type": "markdown",
   "id": "df2faa8c",
   "metadata": {},
   "source": [
    "### How far back in time do these posts go?"
   ]
  },
  {
   "cell_type": "code",
   "execution_count": 17,
   "id": "ad82245e",
   "metadata": {
    "scrolled": true
   },
   "outputs": [
    {
     "data": {
      "text/plain": [
       "1648857554"
      ]
     },
     "execution_count": 17,
     "metadata": {},
     "output_type": "execute_result"
    }
   ],
   "source": [
    "#earliest 'created_utc'\n",
    "my_haskell_df.loc[0,'created_utc']"
   ]
  },
  {
   "cell_type": "markdown",
   "id": "3d9bdec4",
   "metadata": {},
   "source": [
    "Using [this Stack Overflow](https://stackoverflow.com/questions/12400256/converting-epoch-time-into-the-datetime) for help with converting epoch time to a datetime."
   ]
  },
  {
   "cell_type": "code",
   "execution_count": 75,
   "id": "8cf8ab68",
   "metadata": {
    "scrolled": true
   },
   "outputs": [
    {
     "name": "stdout",
     "output_type": "stream",
     "text": [
      "2022-04-01 18:50:27\n"
     ]
    }
   ],
   "source": [
    "#the conversion results in a datetime object.\n",
    "# convert an epoch time to see the form of the returned datetime object\n",
    "epochtime = my_haskell_df.loc[1,'created_utc']\n",
    "date_time = datetime.datetime.fromtimestamp(epochtime)\n",
    "print(date_time)"
   ]
  },
  {
   "cell_type": "code",
   "execution_count": 264,
   "id": "e5d621c3",
   "metadata": {},
   "outputs": [],
   "source": [
    "#create a date column from the 'created_utc' column\n",
    "my_haskell_df['date'] = my_haskell_df['created_utc'].apply(lambda x: datetime.datetime.fromtimestamp(x))"
   ]
  },
  {
   "cell_type": "code",
   "execution_count": 265,
   "id": "35e708c4",
   "metadata": {
    "scrolled": true
   },
   "outputs": [
    {
     "data": {
      "text/plain": [
       "0.0     2022-03-28 19:05:06\n",
       "1.0     2022-03-28 16:56:05\n",
       "2.0     2022-03-28 11:03:34\n",
       "3.0     2022-03-28 06:55:03\n",
       "4.0     2022-03-28 03:16:59\n",
       "                ...        \n",
       "495.0   2022-01-16 08:04:13\n",
       "496.0   2022-01-16 03:09:19\n",
       "497.0   2022-01-15 23:29:33\n",
       "498.0   2022-01-15 19:44:18\n",
       "499.0   2022-01-15 19:12:48\n",
       "Name: date, Length: 500, dtype: datetime64[ns]"
      ]
     },
     "execution_count": 265,
     "metadata": {},
     "output_type": "execute_result"
    }
   ],
   "source": [
    "my_haskell_df['date']"
   ]
  },
  {
   "cell_type": "markdown",
   "id": "a54b5aaf",
   "metadata": {},
   "source": [
    "500 posts corresponds to over 3 months of posts from mid January 2022 to end of March."
   ]
  },
  {
   "cell_type": "code",
   "execution_count": 266,
   "id": "4dea6bab",
   "metadata": {
    "scrolled": false
   },
   "outputs": [],
   "source": [
    "#get the size of the range of dates as a timedelta object\n",
    "timespan = my_haskell_df['date'].max()-my_haskell_df['date'].min()"
   ]
  },
  {
   "cell_type": "code",
   "execution_count": 267,
   "id": "ccb0beb9",
   "metadata": {},
   "outputs": [
    {
     "data": {
      "text/plain": [
       "6.944960225634041"
      ]
     },
     "execution_count": 267,
     "metadata": {},
     "output_type": "execute_result"
    }
   ],
   "source": [
    "#find the post rate in posts per day\n",
    "haskell_post_rate = 500/timespan.total_seconds()\n",
    "haskell_post_rate*86400"
   ]
  },
  {
   "cell_type": "markdown",
   "id": "d7c6a067",
   "metadata": {},
   "source": [
    "About 7 posts per day. A year's worth would be 2555 posts. Let's get a few months' worth of posts from each. "
   ]
  },
  {
   "cell_type": "markdown",
   "id": "c556d96f",
   "metadata": {},
   "source": [
    "# Get Data for all subreddits\n",
    "\n",
    "Occasionally the API call only gets 99 results. I couldn't say why. deep_into_subreddit sees it as a normal request (code 200).\n",
    "\n",
    "Let's grab 1000 posts from r/haskell, r/lisp, and r/lua each, as well as the latest 1000 comments from each."
   ]
  },
  {
   "cell_type": "code",
   "execution_count": 77,
   "id": "b1149086",
   "metadata": {
    "scrolled": false
   },
   "outputs": [
    {
     "name": "stdout",
     "output_type": "stream",
     "text": [
      "1000 left to gather for haskell\n",
      "500 left to gather for haskell\n",
      "finished gathering for haskell.\n",
      "1000 left to gather for haskell\n",
      "500 left to gather for haskell\n",
      "finished gathering for haskell.\n",
      "1000 left to gather for lisp\n",
      "500 left to gather for lisp\n",
      "finished gathering for lisp.\n",
      "1000 left to gather for haskell\n",
      "500 left to gather for haskell\n",
      "finished gathering for haskell.\n",
      "1000 left to gather for lua\n",
      "500 left to gather for lua\n",
      "finished gathering for lua.\n",
      "1000 left to gather for haskell\n",
      "500 left to gather for haskell\n",
      "get_subreddit(): Request status code 429\n",
      "deep_into_subreddit(): API call returned nothing.\n",
      "finished gathering for haskell.\n",
      "done\n"
     ]
    }
   ],
   "source": [
    "#list subreddits to get data from.\n",
    "interesting_subreddits = ['haskell','lisp','lua']\n",
    "\n",
    "#create a list of params to search 1000 posts\n",
    "deep_params = {\n",
    "    'subreddit':'haskell',\n",
    "    'size':1000,\n",
    "    'sort_type':'created_utc'\n",
    "}\n",
    "\n",
    "#comment parameters\n",
    "deep_params_c = {\n",
    "    'subreddit':'haskell',\n",
    "    'size':1000,\n",
    "    'sort_type':'created_utc'\n",
    "}\n",
    " \n",
    "#a dictionary to hold the subreddit data\n",
    "subreddit_dfs = {  \n",
    "    'haskell': pd.DataFrame([]),\n",
    "    'lua':pd.DataFrame([]),\n",
    "    'lisp':pd.DataFrame([])\n",
    "}\n",
    "\n",
    "#a dictionary to hold the comment data\n",
    "subreddit_c_dfs = {  \n",
    "    'haskell': pd.DataFrame([]),\n",
    "    'lua':pd.DataFrame([]),\n",
    "    'lisp':pd.DataFrame([])\n",
    "}\n",
    "\n",
    "\n",
    "#### collect data #####\n",
    "for subreddit in interesting_subreddits:       # for each interesting subreddit,\n",
    "    deep_params['subreddit']=subreddit             # set the parameter subreddit\n",
    "    this_df = deep_into_subreddit(deep_params, verbose= True)    # get a dataframe of the post data\n",
    "    this_c_df = deep_into_subreddit(deep_params_c, comments=True , verbose = True)  #get a dataframe of comment data\n",
    "    subreddit_dfs[subreddit] = this_df             # add post dataframe to the dictionary\n",
    "    subreddit_c_dfs[subreddit] = this_c_df         #add comments dataframe to the directory\n",
    "print('done')"
   ]
  },
  {
   "cell_type": "markdown",
   "id": "d7d6dce8",
   "metadata": {},
   "source": [
    "## Save and export"
   ]
  },
  {
   "cell_type": "code",
   "execution_count": 53,
   "id": "55625cdc",
   "metadata": {},
   "outputs": [],
   "source": [
    "#save the post data for use in a later notebook.\n",
    "for subreddit in interesting_subreddits:\n",
    "    subreddit_dfs[subreddit].to_csv(f'./data/{subreddit}.csv') #save posts\n",
    "    subreddit_c_dfs[subreddit].to_csv(f'./data/{subreddit}_c.csv') #save comments"
   ]
  },
  {
   "cell_type": "markdown",
   "id": "1d7fc433",
   "metadata": {},
   "source": [
    "The data is saved in `./data/` relative to this notebook. It will be picked back up in Notebook 2, but never edited and saved over. Processed data is later stored in `./data_clean/` and `./data_clean_num/`.\n",
    "\n",
    "Notebook 2 performs some EDA."
   ]
  }
 ],
 "metadata": {
  "kernelspec": {
   "display_name": "Python 3 (ipykernel)",
   "language": "python",
   "name": "python3"
  },
  "language_info": {
   "codemirror_mode": {
    "name": "ipython",
    "version": 3
   },
   "file_extension": ".py",
   "mimetype": "text/x-python",
   "name": "python",
   "nbconvert_exporter": "python",
   "pygments_lexer": "ipython3",
   "version": "3.9.7"
  }
 },
 "nbformat": 4,
 "nbformat_minor": 5
}
