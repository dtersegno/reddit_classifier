{
 "cells": [
  {
   "cell_type": "markdown",
   "id": "bd0d3ac7",
   "metadata": {},
   "source": [
    "# Notebook 4: Text Features and Model Fits\n",
    "\n",
    "David Tersegno\n",
    "\n",
    "\n",
    "3/29/22\n",
    "\n",
    "This notebook takes the text-heavy features, the post titles and body texts, and applies a (1,3) count vectorizer. This creates a new feature for every word, sequence of two words, and sequence of three words that shows at least twice in the text. These will end up constituting the real bulk of the feature set.\n",
    "\n",
    "After that, the data is train-test-split, fit, scored, and predicted on several `sklearn` default models. A DecisionTreeClassifier is picked as the best model, with perfect accuracy given this training and test data.\n",
    "\n",
    "Some implications of the model are discussed, as well as suggestions for future steps."
   ]
  },
  {
   "cell_type": "code",
   "execution_count": 56,
   "id": "127a39f7",
   "metadata": {},
   "outputs": [],
   "source": [
    "#import libraries\n",
    "import requests\n",
    "import pandas as pd\n",
    "import numpy as np\n",
    "import seaborn as sns\n",
    "import matplotlib.pyplot as plt\n",
    "import datetime\n",
    "\n",
    "#sklearn\n",
    "from nltk.sentiment.vader import SentimentIntensityAnalyzer\n",
    "from sklearn.feature_extraction.text import CountVectorizer, TfidfVectorizer\n",
    "from sklearn.model_selection import train_test_split, GridSearchCV\n",
    "from sklearn.ensemble import RandomForestClassifier, VotingClassifier\n",
    "from sklearn.preprocessing import StandardScaler\n",
    "from sklearn.pipeline import Pipeline\n",
    "from sklearn.naive_bayes import MultinomialNB\n",
    "from sklearn.metrics import plot_confusion_matrix, accuracy_score, recall_score, precision_score\n",
    "from sklearn.tree import DecisionTreeClassifier, ExtraTreeClassifier\n",
    "from sklearn.svm import SVC\n",
    "from sklearn.linear_model import LogisticRegressionCV\n",
    "\n",
    "plt.style.use('dark_background')"
   ]
  },
  {
   "cell_type": "code",
   "execution_count": 57,
   "id": "57a830cc",
   "metadata": {
    "scrolled": false
   },
   "outputs": [
    {
     "name": "stdout",
     "output_type": "stream",
     "text": [
      "<class 'pandas.core.frame.DataFrame'>\n",
      "RangeIndex: 3000 entries, 0 to 2999\n",
      "Columns: 420 entries, Unnamed: 0 to subreddit_lua\n",
      "dtypes: bool(5), float64(387), int64(26), object(2)\n",
      "memory usage: 9.5+ MB\n"
     ]
    }
   ],
   "source": [
    "#import number-treated data\n",
    "df = pd.read_csv('./data_clean_num/data_clean_num.csv')\n",
    "\n",
    "#take a look at the basics of the data\n",
    "df.info()"
   ]
  },
  {
   "cell_type": "code",
   "execution_count": 58,
   "id": "05bce048",
   "metadata": {},
   "outputs": [
    {
     "data": {
      "text/plain": [
       "0"
      ]
     },
     "execution_count": 58,
     "metadata": {},
     "output_type": "execute_result"
    }
   ],
   "source": [
    "#no null values inherited  - the last notebook dealt with them.\n",
    "df.isnull().sum().sum()"
   ]
  },
  {
   "cell_type": "code",
   "execution_count": 59,
   "id": "741f8e3b",
   "metadata": {},
   "outputs": [
    {
     "data": {
      "text/plain": [
       "Index(['Unnamed: 0', 'is_crosspostable', 'is_original_content',\n",
       "       'is_reddit_media_domain', 'is_robot_indexable', 'is_self', 'score',\n",
       "       'selftext', 'title', 'upvote_ratio',\n",
       "       ...\n",
       "       'crosspost_subreddit_lambdachip', 'crosspost_subreddit_linux_gaming',\n",
       "       'crosspost_subreddit_manool', 'crosspost_subreddit_sbcl',\n",
       "       'crosspost_subreddit_scheme', 'crosspost_subreddit_sicp',\n",
       "       'crosspost_subreddit_stumpwm', 'subreddit_haskell', 'subreddit_lisp',\n",
       "       'subreddit_lua'],\n",
       "      dtype='object', length=420)"
      ]
     },
     "execution_count": 59,
     "metadata": {},
     "output_type": "execute_result"
    }
   ],
   "source": [
    "#look at the columns\n",
    "df.columns"
   ]
  },
  {
   "cell_type": "markdown",
   "id": "29cc116e",
   "metadata": {},
   "source": [
    "---\n",
    "# Remove lua data.\n",
    "\n",
    "We will perform a binary classification between haskell and lisp subreddit posts."
   ]
  },
  {
   "cell_type": "code",
   "execution_count": 60,
   "id": "06966f0d",
   "metadata": {},
   "outputs": [
    {
     "data": {
      "text/plain": [
       "2000"
      ]
     },
     "execution_count": 60,
     "metadata": {},
     "output_type": "execute_result"
    }
   ],
   "source": [
    "#grab observations with subreddit_haskell or subreddit_lisp ==1 \n",
    "df =df[ (df['subreddit_haskell'] == 1) |( df['subreddit_lisp'] == 1) ]\n",
    "\n",
    "#ensure there are 1000 of both classes.\n",
    "len(df)"
   ]
  },
  {
   "cell_type": "markdown",
   "id": "53ae4303",
   "metadata": {},
   "source": [
    "---\n",
    "# Count Vectorizer\n",
    "\n",
    "I needed [this stack overflow answer](https://stackoverflow.com/questions/38256104/differences-between-merge-and-concat-in-pandas#:~:text=axis%20while%20concatenating.-,pd.,DataFrame%20s%20with%20different%20indices.) to sort out the difference between `.join()`, `.merge()`, and `.concat()`.\n",
    "\n",
    "I will use `.join()` to combine DataFrames with respect to index."
   ]
  },
  {
   "cell_type": "code",
   "execution_count": 61,
   "id": "c467e886",
   "metadata": {
    "scrolled": false
   },
   "outputs": [
    {
     "data": {
      "text/html": [
       "<div>\n",
       "<style scoped>\n",
       "    .dataframe tbody tr th:only-of-type {\n",
       "        vertical-align: middle;\n",
       "    }\n",
       "\n",
       "    .dataframe tbody tr th {\n",
       "        vertical-align: top;\n",
       "    }\n",
       "\n",
       "    .dataframe thead th {\n",
       "        text-align: right;\n",
       "    }\n",
       "</style>\n",
       "<table border=\"1\" class=\"dataframe\">\n",
       "  <thead>\n",
       "    <tr style=\"text-align: right;\">\n",
       "      <th></th>\n",
       "      <th>Unnamed: 0</th>\n",
       "      <th>is_crosspostable</th>\n",
       "      <th>is_original_content</th>\n",
       "      <th>is_reddit_media_domain</th>\n",
       "      <th>is_robot_indexable</th>\n",
       "      <th>is_self</th>\n",
       "      <th>score</th>\n",
       "      <th>selftext</th>\n",
       "      <th>title</th>\n",
       "      <th>upvote_ratio</th>\n",
       "      <th>...</th>\n",
       "      <th>youtube</th>\n",
       "      <th>youtube channel</th>\n",
       "      <th>youtube com</th>\n",
       "      <th>youtube com channel</th>\n",
       "      <th>youtube com watch</th>\n",
       "      <th>ys</th>\n",
       "      <th>yy</th>\n",
       "      <th>zero</th>\n",
       "      <th>zip</th>\n",
       "      <th>zsh</th>\n",
       "    </tr>\n",
       "  </thead>\n",
       "  <tbody>\n",
       "    <tr>\n",
       "      <th>0</th>\n",
       "      <td>NaN</td>\n",
       "      <td>NaN</td>\n",
       "      <td>NaN</td>\n",
       "      <td>NaN</td>\n",
       "      <td>NaN</td>\n",
       "      <td>NaN</td>\n",
       "      <td>NaN</td>\n",
       "      <td>NaN</td>\n",
       "      <td>NaN</td>\n",
       "      <td>NaN</td>\n",
       "      <td>...</td>\n",
       "      <td>0.0</td>\n",
       "      <td>0.0</td>\n",
       "      <td>0.0</td>\n",
       "      <td>0.0</td>\n",
       "      <td>0.0</td>\n",
       "      <td>0.0</td>\n",
       "      <td>0.0</td>\n",
       "      <td>0.0</td>\n",
       "      <td>0.0</td>\n",
       "      <td>0.0</td>\n",
       "    </tr>\n",
       "    <tr>\n",
       "      <th>1</th>\n",
       "      <td>NaN</td>\n",
       "      <td>NaN</td>\n",
       "      <td>NaN</td>\n",
       "      <td>NaN</td>\n",
       "      <td>NaN</td>\n",
       "      <td>NaN</td>\n",
       "      <td>NaN</td>\n",
       "      <td>NaN</td>\n",
       "      <td>NaN</td>\n",
       "      <td>NaN</td>\n",
       "      <td>...</td>\n",
       "      <td>0.0</td>\n",
       "      <td>0.0</td>\n",
       "      <td>0.0</td>\n",
       "      <td>0.0</td>\n",
       "      <td>0.0</td>\n",
       "      <td>0.0</td>\n",
       "      <td>0.0</td>\n",
       "      <td>0.0</td>\n",
       "      <td>0.0</td>\n",
       "      <td>0.0</td>\n",
       "    </tr>\n",
       "    <tr>\n",
       "      <th>2</th>\n",
       "      <td>NaN</td>\n",
       "      <td>NaN</td>\n",
       "      <td>NaN</td>\n",
       "      <td>NaN</td>\n",
       "      <td>NaN</td>\n",
       "      <td>NaN</td>\n",
       "      <td>NaN</td>\n",
       "      <td>NaN</td>\n",
       "      <td>NaN</td>\n",
       "      <td>NaN</td>\n",
       "      <td>...</td>\n",
       "      <td>0.0</td>\n",
       "      <td>0.0</td>\n",
       "      <td>0.0</td>\n",
       "      <td>0.0</td>\n",
       "      <td>0.0</td>\n",
       "      <td>0.0</td>\n",
       "      <td>0.0</td>\n",
       "      <td>0.0</td>\n",
       "      <td>0.0</td>\n",
       "      <td>0.0</td>\n",
       "    </tr>\n",
       "    <tr>\n",
       "      <th>3</th>\n",
       "      <td>NaN</td>\n",
       "      <td>NaN</td>\n",
       "      <td>NaN</td>\n",
       "      <td>NaN</td>\n",
       "      <td>NaN</td>\n",
       "      <td>NaN</td>\n",
       "      <td>NaN</td>\n",
       "      <td>NaN</td>\n",
       "      <td>NaN</td>\n",
       "      <td>NaN</td>\n",
       "      <td>...</td>\n",
       "      <td>0.0</td>\n",
       "      <td>0.0</td>\n",
       "      <td>0.0</td>\n",
       "      <td>0.0</td>\n",
       "      <td>0.0</td>\n",
       "      <td>0.0</td>\n",
       "      <td>0.0</td>\n",
       "      <td>0.0</td>\n",
       "      <td>0.0</td>\n",
       "      <td>0.0</td>\n",
       "    </tr>\n",
       "    <tr>\n",
       "      <th>4</th>\n",
       "      <td>NaN</td>\n",
       "      <td>NaN</td>\n",
       "      <td>NaN</td>\n",
       "      <td>NaN</td>\n",
       "      <td>NaN</td>\n",
       "      <td>NaN</td>\n",
       "      <td>NaN</td>\n",
       "      <td>NaN</td>\n",
       "      <td>NaN</td>\n",
       "      <td>NaN</td>\n",
       "      <td>...</td>\n",
       "      <td>0.0</td>\n",
       "      <td>0.0</td>\n",
       "      <td>0.0</td>\n",
       "      <td>0.0</td>\n",
       "      <td>0.0</td>\n",
       "      <td>0.0</td>\n",
       "      <td>0.0</td>\n",
       "      <td>0.0</td>\n",
       "      <td>0.0</td>\n",
       "      <td>0.0</td>\n",
       "    </tr>\n",
       "    <tr>\n",
       "      <th>...</th>\n",
       "      <td>...</td>\n",
       "      <td>...</td>\n",
       "      <td>...</td>\n",
       "      <td>...</td>\n",
       "      <td>...</td>\n",
       "      <td>...</td>\n",
       "      <td>...</td>\n",
       "      <td>...</td>\n",
       "      <td>...</td>\n",
       "      <td>...</td>\n",
       "      <td>...</td>\n",
       "      <td>...</td>\n",
       "      <td>...</td>\n",
       "      <td>...</td>\n",
       "      <td>...</td>\n",
       "      <td>...</td>\n",
       "      <td>...</td>\n",
       "      <td>...</td>\n",
       "      <td>...</td>\n",
       "      <td>...</td>\n",
       "      <td>...</td>\n",
       "    </tr>\n",
       "    <tr>\n",
       "      <th>2995</th>\n",
       "      <td>2995.0</td>\n",
       "      <td>False</td>\n",
       "      <td>False</td>\n",
       "      <td>False</td>\n",
       "      <td>False</td>\n",
       "      <td>True</td>\n",
       "      <td>1.0</td>\n",
       "      <td>[removed]</td>\n",
       "      <td>Why Common Lisp is powerful language for AI?</td>\n",
       "      <td>1.00</td>\n",
       "      <td>...</td>\n",
       "      <td>NaN</td>\n",
       "      <td>NaN</td>\n",
       "      <td>NaN</td>\n",
       "      <td>NaN</td>\n",
       "      <td>NaN</td>\n",
       "      <td>NaN</td>\n",
       "      <td>NaN</td>\n",
       "      <td>NaN</td>\n",
       "      <td>NaN</td>\n",
       "      <td>NaN</td>\n",
       "    </tr>\n",
       "    <tr>\n",
       "      <th>2996</th>\n",
       "      <td>2996.0</td>\n",
       "      <td>True</td>\n",
       "      <td>False</td>\n",
       "      <td>False</td>\n",
       "      <td>True</td>\n",
       "      <td>False</td>\n",
       "      <td>1.0</td>\n",
       "      <td>0</td>\n",
       "      <td>Clojure’s super bowl debut?</td>\n",
       "      <td>1.00</td>\n",
       "      <td>...</td>\n",
       "      <td>NaN</td>\n",
       "      <td>NaN</td>\n",
       "      <td>NaN</td>\n",
       "      <td>NaN</td>\n",
       "      <td>NaN</td>\n",
       "      <td>NaN</td>\n",
       "      <td>NaN</td>\n",
       "      <td>NaN</td>\n",
       "      <td>NaN</td>\n",
       "      <td>NaN</td>\n",
       "    </tr>\n",
       "    <tr>\n",
       "      <th>2997</th>\n",
       "      <td>2997.0</td>\n",
       "      <td>True</td>\n",
       "      <td>False</td>\n",
       "      <td>False</td>\n",
       "      <td>True</td>\n",
       "      <td>False</td>\n",
       "      <td>1.0</td>\n",
       "      <td>0</td>\n",
       "      <td>CLiki: IRC Quotes</td>\n",
       "      <td>1.00</td>\n",
       "      <td>...</td>\n",
       "      <td>NaN</td>\n",
       "      <td>NaN</td>\n",
       "      <td>NaN</td>\n",
       "      <td>NaN</td>\n",
       "      <td>NaN</td>\n",
       "      <td>NaN</td>\n",
       "      <td>NaN</td>\n",
       "      <td>NaN</td>\n",
       "      <td>NaN</td>\n",
       "      <td>NaN</td>\n",
       "    </tr>\n",
       "    <tr>\n",
       "      <th>2998</th>\n",
       "      <td>2998.0</td>\n",
       "      <td>True</td>\n",
       "      <td>False</td>\n",
       "      <td>False</td>\n",
       "      <td>True</td>\n",
       "      <td>False</td>\n",
       "      <td>1.0</td>\n",
       "      <td>0</td>\n",
       "      <td>\"Programming Algorithms in Lisp\" - HN discussi...</td>\n",
       "      <td>1.00</td>\n",
       "      <td>...</td>\n",
       "      <td>NaN</td>\n",
       "      <td>NaN</td>\n",
       "      <td>NaN</td>\n",
       "      <td>NaN</td>\n",
       "      <td>NaN</td>\n",
       "      <td>NaN</td>\n",
       "      <td>NaN</td>\n",
       "      <td>NaN</td>\n",
       "      <td>NaN</td>\n",
       "      <td>NaN</td>\n",
       "    </tr>\n",
       "    <tr>\n",
       "      <th>2999</th>\n",
       "      <td>2999.0</td>\n",
       "      <td>True</td>\n",
       "      <td>False</td>\n",
       "      <td>False</td>\n",
       "      <td>True</td>\n",
       "      <td>True</td>\n",
       "      <td>14.0</td>\n",
       "      <td>Hi!\\n\\nScicloj, a Clojure community for data s...</td>\n",
       "      <td>Study group: Structure and Interpretation of C...</td>\n",
       "      <td>0.86</td>\n",
       "      <td>...</td>\n",
       "      <td>NaN</td>\n",
       "      <td>NaN</td>\n",
       "      <td>NaN</td>\n",
       "      <td>NaN</td>\n",
       "      <td>NaN</td>\n",
       "      <td>NaN</td>\n",
       "      <td>NaN</td>\n",
       "      <td>NaN</td>\n",
       "      <td>NaN</td>\n",
       "      <td>NaN</td>\n",
       "    </tr>\n",
       "  </tbody>\n",
       "</table>\n",
       "<p>3000 rows × 14259 columns</p>\n",
       "</div>"
      ],
      "text/plain": [
       "      Unnamed: 0 is_crosspostable is_original_content is_reddit_media_domain  \\\n",
       "0            NaN              NaN                 NaN                    NaN   \n",
       "1            NaN              NaN                 NaN                    NaN   \n",
       "2            NaN              NaN                 NaN                    NaN   \n",
       "3            NaN              NaN                 NaN                    NaN   \n",
       "4            NaN              NaN                 NaN                    NaN   \n",
       "...          ...              ...                 ...                    ...   \n",
       "2995      2995.0            False               False                  False   \n",
       "2996      2996.0             True               False                  False   \n",
       "2997      2997.0             True               False                  False   \n",
       "2998      2998.0             True               False                  False   \n",
       "2999      2999.0             True               False                  False   \n",
       "\n",
       "     is_robot_indexable is_self  score  \\\n",
       "0                   NaN     NaN    NaN   \n",
       "1                   NaN     NaN    NaN   \n",
       "2                   NaN     NaN    NaN   \n",
       "3                   NaN     NaN    NaN   \n",
       "4                   NaN     NaN    NaN   \n",
       "...                 ...     ...    ...   \n",
       "2995              False    True    1.0   \n",
       "2996               True   False    1.0   \n",
       "2997               True   False    1.0   \n",
       "2998               True   False    1.0   \n",
       "2999               True    True   14.0   \n",
       "\n",
       "                                               selftext  \\\n",
       "0                                                   NaN   \n",
       "1                                                   NaN   \n",
       "2                                                   NaN   \n",
       "3                                                   NaN   \n",
       "4                                                   NaN   \n",
       "...                                                 ...   \n",
       "2995                                          [removed]   \n",
       "2996                                                  0   \n",
       "2997                                                  0   \n",
       "2998                                                  0   \n",
       "2999  Hi!\\n\\nScicloj, a Clojure community for data s...   \n",
       "\n",
       "                                                  title  upvote_ratio  ...  \\\n",
       "0                                                   NaN           NaN  ...   \n",
       "1                                                   NaN           NaN  ...   \n",
       "2                                                   NaN           NaN  ...   \n",
       "3                                                   NaN           NaN  ...   \n",
       "4                                                   NaN           NaN  ...   \n",
       "...                                                 ...           ...  ...   \n",
       "2995       Why Common Lisp is powerful language for AI?          1.00  ...   \n",
       "2996                        Clojure’s super bowl debut?          1.00  ...   \n",
       "2997                                  CLiki: IRC Quotes          1.00  ...   \n",
       "2998  \"Programming Algorithms in Lisp\" - HN discussi...          1.00  ...   \n",
       "2999  Study group: Structure and Interpretation of C...          0.86  ...   \n",
       "\n",
       "      youtube  youtube channel  youtube com  youtube com channel  \\\n",
       "0         0.0              0.0          0.0                  0.0   \n",
       "1         0.0              0.0          0.0                  0.0   \n",
       "2         0.0              0.0          0.0                  0.0   \n",
       "3         0.0              0.0          0.0                  0.0   \n",
       "4         0.0              0.0          0.0                  0.0   \n",
       "...       ...              ...          ...                  ...   \n",
       "2995      NaN              NaN          NaN                  NaN   \n",
       "2996      NaN              NaN          NaN                  NaN   \n",
       "2997      NaN              NaN          NaN                  NaN   \n",
       "2998      NaN              NaN          NaN                  NaN   \n",
       "2999      NaN              NaN          NaN                  NaN   \n",
       "\n",
       "      youtube com watch   ys   yy  zero  zip  zsh  \n",
       "0                   0.0  0.0  0.0   0.0  0.0  0.0  \n",
       "1                   0.0  0.0  0.0   0.0  0.0  0.0  \n",
       "2                   0.0  0.0  0.0   0.0  0.0  0.0  \n",
       "3                   0.0  0.0  0.0   0.0  0.0  0.0  \n",
       "4                   0.0  0.0  0.0   0.0  0.0  0.0  \n",
       "...                 ...  ...  ...   ...  ...  ...  \n",
       "2995                NaN  NaN  NaN   NaN  NaN  NaN  \n",
       "2996                NaN  NaN  NaN   NaN  NaN  NaN  \n",
       "2997                NaN  NaN  NaN   NaN  NaN  NaN  \n",
       "2998                NaN  NaN  NaN   NaN  NaN  NaN  \n",
       "2999                NaN  NaN  NaN   NaN  NaN  NaN  \n",
       "\n",
       "[3000 rows x 14259 columns]"
      ]
     },
     "execution_count": 61,
     "metadata": {},
     "output_type": "execute_result"
    }
   ],
   "source": [
    "#instantiate a count vectorizer\n",
    "cvec = CountVectorizer(min_df=2, ngram_range=(1,3), stop_words='english')\n",
    "\n",
    "# count vectorize text data and make it a new dataframe\n",
    "X_cvec_text = cvec.fit_transform(df['selftext'])\n",
    "X_cvec_text_df = pd.DataFrame(X_cvec_text.todense(), columns = cvec.get_feature_names())\n",
    "\n",
    "# count vectorize title data and make it a new dataframe\n",
    "X_cvec_title = cvec.fit_transform(df['title'])\n",
    "X_cvec_title_df = pd.DataFrame(X_cvec_title.todense(), columns = cvec.get_feature_names())\n",
    "\n",
    "# join dataframes (add all newly created features to the data)\n",
    "X = pd.concat([df, X_cvec_title_df],  axis = 1)\n",
    "X = pd.concat([X, X_cvec_text_df] ,  axis = 1 )\n",
    "X"
   ]
  },
  {
   "cell_type": "code",
   "execution_count": 62,
   "id": "52dcaa9e",
   "metadata": {
    "scrolled": true
   },
   "outputs": [],
   "source": [
    "#the lua data brought a lot of extra rows with their indices. drop them.\n",
    "X = pd.DataFrame(X.loc[1000:])"
   ]
  },
  {
   "cell_type": "code",
   "execution_count": 63,
   "id": "9d2ca4a5",
   "metadata": {
    "scrolled": true
   },
   "outputs": [
    {
     "data": {
      "text/plain": [
       "13839000"
      ]
     },
     "execution_count": 63,
     "metadata": {},
     "output_type": "execute_result"
    }
   ],
   "source": [
    "#there are still a lot of remaining NaNs due to new dummy columns.\n",
    "X.isnull().sum().sum()"
   ]
  },
  {
   "cell_type": "code",
   "execution_count": 64,
   "id": "2816b93b",
   "metadata": {
    "scrolled": false
   },
   "outputs": [],
   "source": [
    "#fill these with 0s, \"false\"\n",
    "X.fillna(0, inplace=True)"
   ]
  },
  {
   "cell_type": "code",
   "execution_count": 65,
   "id": "4284b609",
   "metadata": {
    "scrolled": true
   },
   "outputs": [],
   "source": [
    "#drop the redundant index column\n",
    "X.drop(columns = \"Unnamed: 0\", inplace=True)"
   ]
  },
  {
   "cell_type": "code",
   "execution_count": 66,
   "id": "5292091f",
   "metadata": {
    "scrolled": false
   },
   "outputs": [
    {
     "name": "stderr",
     "output_type": "stream",
     "text": [
      "C:\\Users\\David\\AppData\\Local\\Temp/ipykernel_14012/1483072722.py:6: FutureWarning: Dropping of nuisance columns in DataFrame reductions (with 'numeric_only=None') is deprecated; in a future version this will raise TypeError.  Select only valid columns before calling the reduction.\n",
      "  plt.hist(X.sum(axis=1), bins = 30);\n"
     ]
    },
    {
     "data": {
      "image/png": "[encoded data removed]",
      "text/plain": [
       "<Figure size 864x864 with 1 Axes>"
      ]
     },
     "metadata": {},
     "output_type": "display_data"
    }
   ],
   "source": [
    "# look at histogram of count vectorized words.\n",
    "plt.figure(figsize=(12,12))\n",
    "plt.title(\"Count-vectorizer result counts for r/haskell and r/lisp text data.\")\n",
    "plt.xlabel('Count-vectorized feature sums (number of instances of the feature in all data)')\n",
    "plt.ylabel('Total number of features with the particular count')\n",
    "plt.hist(X.sum(axis=1), bins = 30);"
   ]
  },
  {
   "cell_type": "markdown",
   "id": "7ed39946",
   "metadata": {
    "scrolled": true
   },
   "source": [
    "It looks like there are a huge number of low values, but a hill of common values in the 200s. These values may be important for classification models."
   ]
  },
  {
   "cell_type": "code",
   "execution_count": 69,
   "id": "85fc5b5a",
   "metadata": {},
   "outputs": [],
   "source": [
    "# remove selftext and title from the data. They've been count vectorized already.\n",
    "X.drop(columns=['selftext', 'title'], inplace=True)"
   ]
  },
  {
   "cell_type": "code",
   "execution_count": 70,
   "id": "6cce1995",
   "metadata": {
    "scrolled": true
   },
   "outputs": [],
   "source": [
    "#there were 420 columns in the original imported dataframe --- all new count vectorized columns\n",
    "# are after this.\n",
    "\n",
    "\n",
    "# get the most common words. That's adding all the entries in a column.\n",
    "common_words = X[ X.columns[420:]].apply(lambda x: sum(x.astype('int')))"
   ]
  },
  {
   "cell_type": "code",
   "execution_count": 71,
   "id": "75219ffc",
   "metadata": {
    "scrolled": true
   },
   "outputs": [
    {
     "data": {
      "text/plain": [
       "16773"
      ]
     },
     "execution_count": 71,
     "metadata": {},
     "output_type": "execute_result"
    }
   ],
   "source": [
    "#There are lots of features now.\n",
    "len(common_words)"
   ]
  },
  {
   "cell_type": "code",
   "execution_count": 72,
   "id": "a7ebb674",
   "metadata": {},
   "outputs": [
    {
     "data": {
      "text/plain": [
       "file                 95\n",
       "ve                   99\n",
       "ve                   99\n",
       "time                113\n",
       "time                113\n",
       "function            122\n",
       "function            122\n",
       "removed             123\n",
       "list                133\n",
       "list                133\n",
       "using               134\n",
       "using               134\n",
       "https github com    141\n",
       "https github        141\n",
       "https github        141\n",
       "https github com    141\n",
       "just                142\n",
       "just                142\n",
       "github com          146\n",
       "github com          146\n",
       "common lisp         150\n",
       "common lisp         150\n",
       "common              153\n",
       "common              153\n",
       "gt                  170\n",
       "gt                  170\n",
       "use                 171\n",
       "use                 171\n",
       "code                180\n",
       "code                180\n",
       "github              182\n",
       "github              182\n",
       "common lisp         196\n",
       "common lisp         196\n",
       "cl                  207\n",
       "cl                  207\n",
       "common              212\n",
       "common              212\n",
       "amp                 214\n",
       "amp                 214\n",
       "like                221\n",
       "like                221\n",
       "com                 259\n",
       "com                 259\n",
       "https               379\n",
       "https               379\n",
       "lisp                401\n",
       "lisp                401\n",
       "lisp                631\n",
       "lisp                631\n",
       "dtype: int64"
      ]
     },
     "execution_count": 72,
     "metadata": {},
     "output_type": "execute_result"
    }
   ],
   "source": [
    "#list most common words in the set.\n",
    "common_words.sort_values()[-50:]"
   ]
  },
  {
   "cell_type": "code",
   "execution_count": 73,
   "id": "6042c6a9",
   "metadata": {
    "scrolled": true
   },
   "outputs": [
    {
     "data": {
      "text/plain": [
       "1000.0"
      ]
     },
     "execution_count": 73,
     "metadata": {},
     "output_type": "execute_result"
    }
   ],
   "source": [
    "X['subreddit_lisp'].sum()"
   ]
  },
  {
   "cell_type": "code",
   "execution_count": 50,
   "id": "f9f84732",
   "metadata": {},
   "outputs": [],
   "source": [
    "cvec_pipe_params = {\n",
    "    'cvec__max_features': [2000, 3000, 4000],\n",
    "    'cvec__min_df': [2, 3],\n",
    "    'cvec__max_df': [.9, .95],\n",
    "    'cvec__ngram_range': [(1,1), (1,2)]\n",
    "}\n",
    "\n",
    "pipe = Pipeline([\n",
    "    ('ss', StandardScaler() ),\n",
    "    ( 'mnb' , MultinomialNB() )\n",
    "])\n",
    "\n",
    "\n"
   ]
  },
  {
   "cell_type": "markdown",
   "id": "4212efcb",
   "metadata": {},
   "source": [
    "---\n",
    "# Split features from target"
   ]
  },
  {
   "cell_type": "code",
   "execution_count": 51,
   "id": "bc843678",
   "metadata": {},
   "outputs": [],
   "source": [
    "#remember, ignoring lua. subreddit_haskell is our target now.\n",
    "\n",
    "X = pd.DataFrame(X.drop(columns=['subreddit_lua','subreddit_lisp']))\n",
    "y = X['subreddit_haskell']\n",
    "       \n",
    "X_train, x_test, y_train, y_test = train_test_split(X,\n",
    "                                                   y,\n",
    "                                                   test_size = 0.25,\n",
    "                                                   stratify = y,\n",
    "                                                   random_state = 2023\n",
    "                                                   )"
   ]
  },
  {
   "cell_type": "code",
   "execution_count": 53,
   "id": "763a8b5f",
   "metadata": {},
   "outputs": [
    {
     "data": {
      "text/plain": [
       "['is_crosspostable',\n",
       " 'is_original_content',\n",
       " 'is_reddit_media_domain',\n",
       " 'is_robot_indexable',\n",
       " 'is_self',\n",
       " 'score',\n",
       " 'upvote_ratio',\n",
       " 'thumbnail_height',\n",
       " 'thumbnail_width',\n",
       " 'is_crosspost',\n",
       " 'domain_/r/lua/comments/rwyabs/hello_guys_im_working_with_some_old_code_and_i/',\n",
       " 'domain_/r/lua/comments/t4q8hg/im_making_a_real_attack_roblox_game_and_my/',\n",
       " 'domain_12chip.com',\n",
       " 'domain_88cc.ru',\n",
       " 'domain_adhdcollegesuccess.com',\n",
       " 'domain_agulev.com',\n",
       " 'domain_andregarzia.com',\n",
       " 'domain_andreyorst.gitlab.io',\n",
       " 'domain_bangkoknightlife.com',\n",
       " 'domain_blog.coursesity.com',\n",
       " 'domain_cabancondosmexico.com',\n",
       " 'domain_casamento.xyz',\n",
       " 'domain_christianzink.medium.com',\n",
       " 'domain_codeproject.com',\n",
       " 'domain_crimescenecleanup247.com',\n",
       " 'domain_developereconomics.net',\n",
       " 'domain_direct-link.net',\n",
       " 'domain_dzone.com',\n",
       " 'domain_emergenie.co.uk',\n",
       " 'domain_emilua.gitlab.io',\n",
       " 'domain_energyoutlet.com',\n",
       " 'domain_ferib.dev',\n",
       " 'domain_getajobalabama.com',\n",
       " 'domain_gist.github.com',\n",
       " 'domain_github.blog',\n",
       " 'domain_github.com',\n",
       " 'domain_graniteexpoonline.com',\n",
       " 'domain_hiphish.github.io',\n",
       " 'domain_i.imgur.com',\n",
       " 'domain_i.redd.it',\n",
       " 'domain_inflact.com',\n",
       " 'domain_itsallbee.com',\n",
       " 'domain_libhunt.com',\n",
       " 'domain_lovr.org',\n",
       " 'domain_luabyexample.org',\n",
       " 'domain_luau-lang.org',\n",
       " 'domain_medium.com',\n",
       " 'domain_mytoyforjoy.com',\n",
       " 'domain_norxpharmacy.co',\n",
       " 'domain_notes.eatonphil.com',\n",
       " 'domain_o3de.org',\n",
       " 'domain_ocawesome101.github.io',\n",
       " 'domain_opensourcegamedeveloper.com',\n",
       " 'domain_porngame.cc',\n",
       " 'domain_pouet.net',\n",
       " 'domain_realtimelogic.com',\n",
       " 'domain_reddit.com',\n",
       " 'domain_redditpagematrics.com',\n",
       " 'domain_roids4eu.com',\n",
       " 'domain_self.LaTeX',\n",
       " 'domain_self.PHP',\n",
       " 'domain_self.ambientplaylists',\n",
       " 'domain_self.cs50',\n",
       " 'domain_self.learnprogramming',\n",
       " 'domain_self.love2d',\n",
       " 'domain_self.lua',\n",
       " 'domain_self.neovim',\n",
       " 'domain_self.pico8',\n",
       " 'domain_self.robloxgamedev',\n",
       " 'domain_self.tabletopsimulator',\n",
       " 'domain_self.tinycode',\n",
       " 'domain_sexmedicinesupply.com',\n",
       " 'domain_softwarequery.com',\n",
       " 'domain_statisticsanddata.org',\n",
       " 'domain_swissvans.com',\n",
       " 'domain_tic80.com',\n",
       " 'domain_twitter.com',\n",
       " 'domain_v.redd.it',\n",
       " 'domain_vrcams.io',\n",
       " 'domain_youtu.be',\n",
       " 'domain_youtube.com',\n",
       " 'domain_zeusedit.com',\n",
       " 'thumbnail_default',\n",
       " 'thumbnail_image',\n",
       " 'thumbnail_self',\n",
       " 'crosspost_subreddit_LaTeX',\n",
       " 'crosspost_subreddit_PHP',\n",
       " 'crosspost_subreddit_ambientplaylists',\n",
       " 'crosspost_subreddit_cs50',\n",
       " 'crosspost_subreddit_hammerspoon',\n",
       " 'crosspost_subreddit_learnprogramming',\n",
       " 'crosspost_subreddit_love2d',\n",
       " 'crosspost_subreddit_neovim',\n",
       " 'crosspost_subreddit_particubes',\n",
       " 'crosspost_subreddit_pico8',\n",
       " 'crosspost_subreddit_programming',\n",
       " 'crosspost_subreddit_robloxgamedev',\n",
       " 'crosspost_subreddit_tabletopsimulator',\n",
       " 'crosspost_subreddit_tinycode',\n",
       " 'crosspost_subreddit_u_TecWord',\n",
       " 'post_hint_hosted:video',\n",
       " 'post_hint_image',\n",
       " 'post_hint_link',\n",
       " 'post_hint_rich:video',\n",
       " 'post_hint_self',\n",
       " 'domain_/r/haskell/comments/rh7m3i/just_installed_ghci_to_learn_haskell_and_trying/',\n",
       " 'domain_/r/haskell/comments/telf9t/haskellers_functional_conf_2022_is_online_and/',\n",
       " 'domain_amelia.how',\n",
       " 'domain_anchor.fm',\n",
       " 'domain_andriusstank.github.io',\n",
       " 'domain_arfasoftech.com',\n",
       " 'domain_arxiv.org',\n",
       " 'domain_blog.cofree.coffee',\n",
       " 'domain_blog.devgenius.io',\n",
       " 'domain_blog.drewolson.org',\n",
       " 'domain_blog.functorial.com',\n",
       " 'domain_blog.josephmorag.com',\n",
       " 'domain_blog.oxij.org',\n",
       " 'domain_blog.plover.com',\n",
       " 'domain_blog.sigplan.org',\n",
       " 'domain_bobkonf.de',\n",
       " 'domain_cambridge.org',\n",
       " 'domain_cdsmithus.medium.com',\n",
       " 'domain_chester-beard.medium.com',\n",
       " 'domain_chrisdone.com',\n",
       " 'domain_codereview.stackexchange.com',\n",
       " 'domain_compositional.fm',\n",
       " 'domain_coot.me',\n",
       " 'domain_cs-syd.eu',\n",
       " 'domain_cs.nott.ac.uk',\n",
       " 'domain_danielbrice.net',\n",
       " 'domain_dfithian.github.io',\n",
       " 'domain_discourse.haskell.org',\n",
       " 'domain_divip.hu',\n",
       " 'domain_dmitrytsepelev.dev',\n",
       " 'domain_donsbot.com',\n",
       " 'domain_downloads.haskell.org',\n",
       " 'domain_elbear.com',\n",
       " 'domain_elephly.net',\n",
       " 'domain_eli.thegreenplace.net',\n",
       " 'domain_f3.cool',\n",
       " 'domain_felixspringer.xyz',\n",
       " 'domain_fosskers.ca',\n",
       " 'domain_fpcomplete.com',\n",
       " 'domain_freedomwithincenter.com',\n",
       " 'domain_functional.works-hub.com',\n",
       " 'domain_gitlab.haskell.org',\n",
       " 'domain_h2.jaguarpaw.co.uk',\n",
       " 'domain_hackage.haskell.org',\n",
       " 'domain_haskell.careers',\n",
       " 'domain_haskell.foundation',\n",
       " 'domain_haskell.org',\n",
       " 'domain_haskellforall.com',\n",
       " 'domain_haskellweekly.news',\n",
       " 'domain_hexgrip.com',\n",
       " 'domain_hobson.space',\n",
       " 'domain_hugopeters.me',\n",
       " 'domain_i-programmer.info',\n",
       " 'domain_imgur.com',\n",
       " 'domain_incoherentsoftware.com',\n",
       " 'domain_itstechengine.com',\n",
       " 'domain_jackkelly.name',\n",
       " 'domain_jappie.me',\n",
       " 'domain_javaplt.github.io',\n",
       " 'domain_jezenthomas.com',\n",
       " 'domain_juicyfield.at',\n",
       " 'domain_lambda.cicada-lang.org',\n",
       " 'domain_las.rs',\n",
       " 'domain_leanprover.github.io',\n",
       " 'domain_leanpub.com',\n",
       " 'domain_lhbg-book.link',\n",
       " 'domain_luctielen.com',\n",
       " 'domain_micahcantor.com',\n",
       " 'domain_mzadel.github.io',\n",
       " 'domain_nyeogmi.com',\n",
       " 'domain_ocramz.github.io',\n",
       " 'domain_oleg.fi',\n",
       " 'domain_osabe-app.bitbucket.io',\n",
       " 'domain_parsonsmatt.org',\n",
       " 'domain_pbrisbin.com',\n",
       " 'domain_prophetlabs.de',\n",
       " 'domain_queue.acm.org',\n",
       " 'domain_reasonablypolymorphic.com',\n",
       " 'domain_redbubble.com',\n",
       " 'domain_retrocla.sh',\n",
       " 'domain_roganmurley.com',\n",
       " 'domain_scalac.io',\n",
       " 'domain_scb.taleo.net',\n",
       " 'domain_self.ProgrammingLanguages',\n",
       " 'domain_self.adventofcode',\n",
       " 'domain_self.functionalprogramming',\n",
       " 'domain_self.haskell',\n",
       " 'domain_self.opensource',\n",
       " 'domain_self.rust',\n",
       " 'domain_self.selfhosted',\n",
       " 'domain_serokell.io',\n",
       " 'domain_skillsmatter.com',\n",
       " 'domain_stackage.org',\n",
       " 'domain_stackoverflow.com',\n",
       " 'domain_stefan-klinger.de',\n",
       " 'domain_summer.haskell.org',\n",
       " 'domain_surveyhero.com',\n",
       " 'domain_suzdalnitski.medium.com',\n",
       " 'domain_tarmean.github.io',\n",
       " 'domain_tech.freckle.com',\n",
       " 'domain_techcrunch.com',\n",
       " 'domain_techmindful.blog',\n",
       " 'domain_tek.brick.do',\n",
       " 'domain_thecodedmessage.com',\n",
       " 'domain_tweag.io',\n",
       " 'domain_typeable.io',\n",
       " 'domain_typetheoryforall.com',\n",
       " 'domain_typeville.io',\n",
       " 'domain_vitez.me',\n",
       " 'domain_well-typed.com',\n",
       " 'domain_xn--i2r.xn--rhqv96g',\n",
       " 'domain_zacwood.me',\n",
       " 'domain_zfoh.ch',\n",
       " 'thumbnail_spoiler',\n",
       " 'crosspost_subreddit_ProgrammingLanguages',\n",
       " 'crosspost_subreddit_adventofcode',\n",
       " 'crosspost_subreddit_functionalprogramming',\n",
       " 'crosspost_subreddit_jappie',\n",
       " 'crosspost_subreddit_opensource',\n",
       " 'crosspost_subreddit_rust',\n",
       " 'crosspost_subreddit_selfhosted',\n",
       " 'crosspost_subreddit_termux',\n",
       " 'crosspost_subreddit_vscode',\n",
       " 'domain_/r/lisp/comments/osnksx/smalltalklike_browser_for_common_lisp/',\n",
       " 'domain_/r/lisp/comments/rlb925/ive_always_known_about_my_lisp_and_hated_my_voice/',\n",
       " 'domain_/r/lisp/comments/sd9wf1/clog_builder_cl_web_3_awesome_lang_awesome_tool/',\n",
       " 'domain_2022.programming-conference.org',\n",
       " 'domain_acgollapalli.github.io',\n",
       " 'domain_adam.nels.onl',\n",
       " 'domain_adventofcode.com',\n",
       " 'domain_ag91.github.io',\n",
       " 'domain_aima.cs.berkeley.edu',\n",
       " 'domain_akkuscm.org',\n",
       " 'domain_alex-hhh.github.io',\n",
       " 'domain_algo.be',\n",
       " 'domain_applied-langua.ge',\n",
       " 'domain_aroundthebend.com.au',\n",
       " 'domain_asciinema.org',\n",
       " 'domain_ashok-khanna.medium.com',\n",
       " 'domain_atlas.engineer',\n",
       " 'domain_basalgangster.macgui.com',\n",
       " 'domain_beautifulracket.com',\n",
       " 'domain_bernsteinbear.com',\n",
       " 'domain_blog.cddr.org',\n",
       " 'domain_blog.klipse.tech',\n",
       " 'domain_blog.matthewdmiller.net',\n",
       " 'domain_blog.racket-lang.org',\n",
       " 'domain_blog.veitheller.de',\n",
       " 'domain_boilingsteam.com',\n",
       " 'domain_borodust.org',\n",
       " 'domain_call-with.cc',\n",
       " 'domain_carloscarrasco.com',\n",
       " 'domain_cdn.discordapp.com',\n",
       " 'domain_cdr.common-lisp.dev',\n",
       " 'domain_chialisp.com',\n",
       " 'domain_cjackson.tk',\n",
       " 'domain_cl-repl.org',\n",
       " 'domain_cliki.net',\n",
       " 'domain_coalton-lang.github.io',\n",
       " 'domain_codesections.com',\n",
       " 'domain_coindaily.ca',\n",
       " 'domain_common-lisp.net',\n",
       " 'domain_coredumped.dev',\n",
       " 'domain_cryptida.com',\n",
       " 'domain_cs.cmu.edu',\n",
       " 'domain_cs.tufts.edu',\n",
       " 'domain_cs.utah.edu',\n",
       " 'domain_defn.io',\n",
       " 'domain_dev.to',\n",
       " 'domain_discord.gg',\n",
       " 'domain_docs.google.com',\n",
       " 'domain_docs.racket-lang.org',\n",
       " 'domain_dragan.rocks',\n",
       " 'domain_dreamsongs.com',\n",
       " 'domain_dspace.mit.edu',\n",
       " 'domain_en.wikipedia.org',\n",
       " 'domain_ergoemacs.org',\n",
       " 'domain_floridacbdconnection.com',\n",
       " 'domain_flownet.com',\n",
       " 'domain_fultonsramblings.substack.com',\n",
       " 'domain_funcall.blogspot.com',\n",
       " 'domain_git.envs.net',\n",
       " 'domain_gitlab.com',\n",
       " 'domain_grammarly.com',\n",
       " 'domain_groups.google.com',\n",
       " 'domain_hackster.io',\n",
       " 'domain_hangaroundtheweb.com',\n",
       " 'domain_herbalincenseheadshop.com',\n",
       " 'domain_hhyu.org',\n",
       " 'domain_hyperthings.garden',\n",
       " 'domain_incompleteideas.net',\n",
       " 'domain_infoq.com',\n",
       " 'domain_intuitiveexplanations.com',\n",
       " 'domain_itch.io',\n",
       " 'domain_janet-lang.org',\n",
       " 'domain_jmc.stanford.edu',\n",
       " 'domain_junglecoder.com',\n",
       " 'domain_justine.lol',\n",
       " 'domain_jwz.org',\n",
       " 'domain_lambdachip.com',\n",
       " 'domain_lambdafaktorie.com',\n",
       " 'domain_legacy.cs.indiana.edu',\n",
       " 'domain_leonardo-m.livejournal.com',\n",
       " 'domain_lexaloffle.com',\n",
       " 'domain_lights-of-holiness.eu',\n",
       " 'domain_lisp-journey.gitlab.io',\n",
       " 'domain_lisp-stat.dev',\n",
       " 'domain_lisp-univ-etc.blogspot.com',\n",
       " 'domain_lisp.substack.com',\n",
       " 'domain_lispcookbook.github.io',\n",
       " 'domain_lispworks.com',\n",
       " 'domain_lumiwallet.com',\n",
       " 'domain_lupyuen.github.io',\n",
       " 'domain_m.youtube.com',\n",
       " 'domain_markstefik.com',\n",
       " 'domain_mcclim.common-lisp.dev',\n",
       " 'domain_medium.math.dev',\n",
       " 'domain_memorials.com',\n",
       " 'domain_michaelnielsen.org',\n",
       " 'domain_mihaiolteanu.me',\n",
       " 'domain_mitpress.mit.edu',\n",
       " 'domain_mvdblive.org',\n",
       " 'domain_news.ycombinator.com',\n",
       " 'domain_nhplace.com',\n",
       " 'domain_notmuchmail.org',\n",
       " 'domain_nyxt.atlas.engineer',\n",
       " 'domain_office.botton.com',\n",
       " 'domain_opensourceforu.com',\n",
       " 'domain_paloo.de',\n",
       " 'domain_patreon.com',\n",
       " 'domain_peertube.tv',\n",
       " 'domain_people.delphiforums.com',\n",
       " 'domain_people.eecs.berkeley.edu',\n",
       " 'domain_platform.sh',\n",
       " 'domain_pldi21.org',\n",
       " 'domain_pritesh-shrivastava.github.io',\n",
       " 'domain_rabbibotton.github.io',\n",
       " 'domain_racket-news.com',\n",
       " 'domain_racket.discourse.group',\n",
       " 'domain_racksnaps.defn.io',\n",
       " 'domain_reader.tymoon.eu',\n",
       " 'domain_renato.athaydes.com',\n",
       " 'domain_rmculpepper.github.io',\n",
       " 'domain_rmfnamericaguns.com',\n",
       " 'domain_sarabander.github.io',\n",
       " 'domain_sbcl.org',\n",
       " 'domain_self.AskComputerScience',\n",
       " 'domain_self.Clojure',\n",
       " 'domain_self.Common_Lisp',\n",
       " 'domain_self.Nyxt',\n",
       " 'domain_self.Racket',\n",
       " 'domain_self.chia',\n",
       " 'domain_self.emacs',\n",
       " 'domain_self.gnu',\n",
       " 'domain_self.lambdachip',\n",
       " 'domain_self.lisp',\n",
       " 'domain_self.manool',\n",
       " 'domain_self.scheme',\n",
       " 'domain_self.sicp',\n",
       " 'domain_self.stumpwm',\n",
       " 'domain_selleo.com',\n",
       " 'domain_shipperschoice.com',\n",
       " 'domain_snowsyn.net',\n",
       " 'domain_soundcloud.com',\n",
       " 'domain_spwhitton.name',\n",
       " 'domain_sr.ht',\n",
       " 'domain_stackoverflow.az1.qualtrics.com',\n",
       " 'domain_starlightinternational786.world',\n",
       " 'domain_steloflute.tistory.com',\n",
       " 'domain_stopa.io',\n",
       " 'domain_store.steampowered.com',\n",
       " 'domain_susam.in',\n",
       " 'domain_susam.net',\n",
       " 'domain_symbolics.lisp.engineer',\n",
       " 'domain_sysdef.xyz',\n",
       " 'domain_t3x.org',\n",
       " 'domain_tech.perpetua.io',\n",
       " 'domain_tfeb.org',\n",
       " 'domain_thestrangeloop.com',\n",
       " 'domain_timmons.dev',\n",
       " 'domain_turtleware.eu',\n",
       " 'domain_twitch.tv',\n",
       " 'domain_ulisp.com',\n",
       " 'domain_uprun.github.io',\n",
       " 'domain_users.cs.duke.edu',\n",
       " 'domain_utkarshsingh.xyz',\n",
       " 'domain_web.archive.org',\n",
       " 'domain_woodrush.github.io',\n",
       " 'domain_xahlee.info',\n",
       " 'domain_youtubeservices.com',\n",
       " 'crosspost_subreddit_AskComputerScience',\n",
       " 'crosspost_subreddit_Clojure',\n",
       " 'crosspost_subreddit_Common_Lisp',\n",
       " 'crosspost_subreddit_ImaginaryTechnology',\n",
       " 'crosspost_subreddit_Nyxt',\n",
       " 'crosspost_subreddit_ProgrammerHumor',\n",
       " 'crosspost_subreddit_Racket',\n",
       " 'crosspost_subreddit_apljk',\n",
       " 'crosspost_subreddit_chia',\n",
       " 'crosspost_subreddit_emacs',\n",
       " 'crosspost_subreddit_freemacs',\n",
       " 'crosspost_subreddit_gnu',\n",
       " 'crosspost_subreddit_lambdachip',\n",
       " 'crosspost_subreddit_linux_gaming',\n",
       " 'crosspost_subreddit_manool',\n",
       " 'crosspost_subreddit_sbcl',\n",
       " 'crosspost_subreddit_scheme',\n",
       " 'crosspost_subreddit_sicp',\n",
       " 'crosspost_subreddit_stumpwm',\n",
       " 'subreddit_haskell',\n",
       " '00',\n",
       " '00 utc',\n",
       " '01',\n",
       " '01 solutions',\n",
       " '08',\n",
       " '10',\n",
       " '10 minutes',\n",
       " '100',\n",
       " '100 private',\n",
       " '100 private design',\n",
       " '100 remote',\n",
       " '100 remote worldwide',\n",
       " '11',\n",
       " '12',\n",
       " '13',\n",
       " '14',\n",
       " '15',\n",
       " '16',\n",
       " '17',\n",
       " '17 00',\n",
       " '17 00 utc',\n",
       " '18',\n",
       " '18 00',\n",
       " '18 00 utc',\n",
       " '19',\n",
       " '19 release',\n",
       " '1980',\n",
       " '1986',\n",
       " '1986 videos',\n",
       " '2002',\n",
       " '2011',\n",
       " '2020',\n",
       " '2021',\n",
       " '2021 day',\n",
       " '2021 survey',\n",
       " '2021 survey results',\n",
       " '2022',\n",
       " '2022 course',\n",
       " '2022 nominations',\n",
       " '2022 proposals',\n",
       " '2022 proposals closes',\n",
       " '21',\n",
       " '21st',\n",
       " '21st century',\n",
       " '22',\n",
       " '24',\n",
       " '26',\n",
       " '2x',\n",
       " '2x haskell',\n",
       " '2x haskell developer',\n",
       " '3d',\n",
       " '4k',\n",
       " '50',\n",
       " '50x',\n",
       " '50x faster',\n",
       " 'aarch64',\n",
       " 'aarch64 apple',\n",
       " 'aarch64 apple silicon',\n",
       " 'aarch64 architecture',\n",
       " 'abcl',\n",
       " 'abcl used',\n",
       " 'able',\n",
       " 'abstract',\n",
       " 'abstracting',\n",
       " 'acceleration',\n",
       " 'access',\n",
       " 'access connections',\n",
       " 'access connections graph',\n",
       " 'access unicode',\n",
       " 'access unicode character',\n",
       " 'acl2',\n",
       " 'actions',\n",
       " 'active',\n",
       " 'active lisp',\n",
       " 'activities',\n",
       " 'actually',\n",
       " 'add',\n",
       " 'added',\n",
       " 'adding',\n",
       " 'adds',\n",
       " 'advanced',\n",
       " 'advent',\n",
       " 'advent code',\n",
       " 'advent code 2021',\n",
       " 'advent code day',\n",
       " 'advice',\n",
       " 'ago',\n",
       " 'ai',\n",
       " 'alex',\n",
       " 'algebra',\n",
       " 'algebraic',\n",
       " 'algebraic data',\n",
       " 'algebraic data types',\n",
       " 'algebraic datatypes',\n",
       " 'algorithm',\n",
       " 'algorithms',\n",
       " 'algorithms lisp',\n",
       " 'alien',\n",
       " 'alive',\n",
       " 'allocation',\n",
       " 'alternative',\n",
       " 'alternatives',\n",
       " 'amp',\n",
       " 'android',\n",
       " 'ann',\n",
       " 'ann haskell',\n",
       " 'ann haskell language',\n",
       " 'ann servant',\n",
       " 'ann unicode',\n",
       " 'ann unicode data',\n",
       " 'announcing',\n",
       " 'annual',\n",
       " 'ansi',\n",
       " 'ansi cl',\n",
       " 'anybody',\n",
       " 'aoc',\n",
       " 'aoc haskell',\n",
       " 'aoc haskell day',\n",
       " 'api',\n",
       " 'apis',\n",
       " 'apis efficiently',\n",
       " 'apis efficiently access',\n",
       " 'app',\n",
       " 'app common',\n",
       " 'app common lisp',\n",
       " 'apple',\n",
       " 'apple silicon',\n",
       " 'application',\n",
       " 'applications',\n",
       " 'applicative',\n",
       " 'apply',\n",
       " 'approach',\n",
       " 'apps',\n",
       " 'apress',\n",
       " 'april',\n",
       " 'arbitrary',\n",
       " 'architecture',\n",
       " 'arduinos',\n",
       " 'arduinos haskell',\n",
       " 'arduinos haskell nasa',\n",
       " 'argument',\n",
       " 'arguments',\n",
       " 'arm',\n",
       " 'arm64',\n",
       " 'array',\n",
       " 'arrows',\n",
       " 'art',\n",
       " 'article',\n",
       " 'artificial',\n",
       " 'asdf',\n",
       " 'asked',\n",
       " 'asked week',\n",
       " 'assignment',\n",
       " 'atoms',\n",
       " 'authentication',\n",
       " 'automate',\n",
       " 'automatic',\n",
       " 'automatic differentiation',\n",
       " 'automatically',\n",
       " 'autumn',\n",
       " 'autumn lisp',\n",
       " 'autumn lisp game',\n",
       " 'available',\n",
       " 'available testing',\n",
       " 'aware',\n",
       " 'awesome',\n",
       " 'backend',\n",
       " 'bank',\n",
       " 'bank uk',\n",
       " 'bare',\n",
       " 'bare metal',\n",
       " 'base',\n",
       " 'based',\n",
       " 'basic',\n",
       " 'beat',\n",
       " 'beat java',\n",
       " 'beat java rust',\n",
       " 'beats',\n",
       " 'beautiful',\n",
       " 'beginner',\n",
       " 'beginner question',\n",
       " 'beginners',\n",
       " 'beginners 2022',\n",
       " 'beginners 2022 course',\n",
       " 'behavior',\n",
       " 'behaviors',\n",
       " 'behaviour',\n",
       " 'behaviour functional',\n",
       " 'behaviour functional reactive',\n",
       " 'bellroy',\n",
       " 'bellroy remote',\n",
       " 'benchmarks',\n",
       " 'benefits',\n",
       " 'benefits learning',\n",
       " 'best',\n",
       " 'best lisp',\n",
       " 'best lisp dialect',\n",
       " 'best practices',\n",
       " 'best way',\n",
       " 'best way use',\n",
       " 'beta',\n",
       " 'beta release',\n",
       " 'better',\n",
       " 'big',\n",
       " 'binary',\n",
       " 'bind',\n",
       " 'binding',\n",
       " 'bindings',\n",
       " 'bit',\n",
       " 'bl602',\n",
       " 'block',\n",
       " 'blockly',\n",
       " 'blocks',\n",
       " 'blog',\n",
       " 'blog ghc',\n",
       " 'blog ghc activities',\n",
       " 'blog post',\n",
       " 'board',\n",
       " 'book',\n",
       " 'book functional',\n",
       " 'books',\n",
       " 'bot',\n",
       " 'bound',\n",
       " 'branch',\n",
       " 'breakage',\n",
       " 'breaking',\n",
       " 'bring',\n",
       " 'browse',\n",
       " 'browser',\n",
       " 'browsing',\n",
       " 'buffers',\n",
       " 'bug',\n",
       " 'build',\n",
       " 'builder',\n",
       " 'builder tutorial',\n",
       " 'building',\n",
       " 'building common',\n",
       " 'building common lisp',\n",
       " 'built',\n",
       " 'built small',\n",
       " 'bundle',\n",
       " 'bus',\n",
       " 'business',\n",
       " 'buy',\n",
       " 'bytes',\n",
       " 'bytestring',\n",
       " 'bytestring 11',\n",
       " 'cabal',\n",
       " 'cabal project',\n",
       " 'calculus',\n",
       " 'calculus javascript',\n",
       " 'calling',\n",
       " 'calls',\n",
       " 'came',\n",
       " 'came today',\n",
       " 'capture',\n",
       " 'cardano',\n",
       " 'carp',\n",
       " 'cartesian',\n",
       " 'case',\n",
       " 'case study',\n",
       " 'cases',\n",
       " 'cast',\n",
       " 'casual',\n",
       " 'casual clojure',\n",
       " 'casual clojure common',\n",
       " 'category',\n",
       " 'category theory',\n",
       " 'century',\n",
       " 'cffi',\n",
       " 'change',\n",
       " 'changes',\n",
       " 'changing',\n",
       " 'chapter',\n",
       " 'char',\n",
       " 'character',\n",
       " 'character database',\n",
       " 'characters',\n",
       " 'charity',\n",
       " 'charlesneimog',\n",
       " 'charlesneimog om',\n",
       " 'charlesneimog om ckn',\n",
       " 'chartered',\n",
       " 'chartered bank',\n",
       " 'chartered bank uk',\n",
       " 'chat',\n",
       " 'chat chat',\n",
       " 'chat chat platform',\n",
       " 'chat platform',\n",
       " 'chat platform 100',\n",
       " 'check',\n",
       " 'checking',\n",
       " 'chez',\n",
       " 'chez scheme',\n",
       " 'chia',\n",
       " 'chia hackathon',\n",
       " 'chialisp',\n",
       " 'chicken',\n",
       " 'chicken scheme',\n",
       " 'choice',\n",
       " 'christmas',\n",
       " 'cicada',\n",
       " 'cicada lang',\n",
       " 'cicada lang lambda',\n",
       " 'circular',\n",
       " 'ckn',\n",
       " 'cl',\n",
       " 'cl protobufs',\n",
       " 'cl wol',\n",
       " 'cl wol wake',\n",
       " 'clash',\n",
       " 'class',\n",
       " 'classes',\n",
       " 'clause',\n",
       " 'clc',\n",
       " 'clc election',\n",
       " 'clc election january',\n",
       " 'cli',\n",
       " 'client',\n",
       " 'clingon',\n",
       " 'clisp',\n",
       " 'clml',\n",
       " 'clml mgl',\n",
       " 'clml mgl question',\n",
       " 'clog',\n",
       " 'clog builder',\n",
       " 'clog builder tutorial',\n",
       " 'clojure',\n",
       " 'clojure common',\n",
       " 'clojure common lisp',\n",
       " 'clone',\n",
       " 'clone demo',\n",
       " 'clone demo app',\n",
       " 'clos',\n",
       " 'closes',\n",
       " 'closes january',\n",
       " 'closes january 15',\n",
       " 'closing',\n",
       " 'closures',\n",
       " 'cloud',\n",
       " 'clx',\n",
       " 'coalton',\n",
       " 'code',\n",
       " 'code 2021',\n",
       " 'code 2021 day',\n",
       " 'code common',\n",
       " 'code common lisp',\n",
       " 'code day',\n",
       " 'code generation',\n",
       " 'code haskell',\n",
       " 'code performance',\n",
       " 'code performance comparison',\n",
       " 'code written',\n",
       " 'codex',\n",
       " 'coding',\n",
       " 'coffee',\n",
       " 'coffee cast',\n",
       " 'cofree',\n",
       " 'cofree coffee',\n",
       " 'cofree coffee cast',\n",
       " 'collaborative',\n",
       " 'collection',\n",
       " 'column',\n",
       " 'com',\n",
       " 'com charlesneimog',\n",
       " 'com charlesneimog om',\n",
       " 'combinator',\n",
       " 'combinator codex',\n",
       " 'combinators',\n",
       " 'come',\n",
       " 'coming',\n",
       " 'command',\n",
       " 'command line',\n",
       " 'commands',\n",
       " 'comments',\n",
       " 'common',\n",
       " 'common lisp',\n",
       " 'common lisp clojure',\n",
       " 'common lisp code',\n",
       " 'common lisp developer',\n",
       " 'common lisp development',\n",
       " 'common lisp example',\n",
       " 'common lisp executables',\n",
       " 'common lisp object',\n",
       " 'common lisp omnificent',\n",
       " 'common lisp puzzle',\n",
       " 'common lisp study',\n",
       " 'common lisp tutorial',\n",
       " 'common lisp web',\n",
       " 'commonlisp',\n",
       " 'community',\n",
       " 'company',\n",
       " 'compare',\n",
       " 'comparing',\n",
       " 'comparison',\n",
       " 'competition',\n",
       " 'competition 2022',\n",
       " 'compilation',\n",
       " 'compile',\n",
       " 'compile haskell',\n",
       " 'compile haskell termux',\n",
       " 'compiler',\n",
       " 'compiler use',\n",
       " 'compiling',\n",
       " 'complete',\n",
       " 'complex',\n",
       " 'complexity',\n",
       " 'composable',\n",
       " 'composing',\n",
       " 'comprehension',\n",
       " 'comprehensions',\n",
       " 'comprehensive',\n",
       " 'computation',\n",
       " 'compute',\n",
       " 'computer',\n",
       " 'computing',\n",
       " 'concept',\n",
       " 'concepts',\n",
       " 'concurrency',\n",
       " 'concurrent',\n",
       " 'concurrent computation',\n",
       " 'conditions',\n",
       " 'conf',\n",
       " 'conf 2022',\n",
       " 'conf 2022 proposals',\n",
       " 'conference',\n",
       " 'conferences',\n",
       " 'config',\n",
       " 'configuration',\n",
       " 'configuration using',\n",
       " 'configuration using fennel',\n",
       " 'configure',\n",
       " 'confused',\n",
       " 'confusion',\n",
       " 'connections',\n",
       " 'connections graph',\n",
       " 'cons',\n",
       " 'cons list',\n",
       " 'cons list list',\n",
       " 'consfigurator',\n",
       " 'considered',\n",
       " 'console',\n",
       " 'constructor',\n",
       " 'constructors',\n",
       " 'content',\n",
       " 'contest',\n",
       " 'context',\n",
       " 'continuation',\n",
       " 'contributions',\n",
       " 'control',\n",
       " 'convention',\n",
       " 'conventions',\n",
       " 'conversion',\n",
       " 'convert',\n",
       " 'converting',\n",
       " 'conway',\n",
       " 'cookbook',\n",
       " 'cookies',\n",
       " 'cool',\n",
       " 'copilot',\n",
       " 'copy',\n",
       " 'core',\n",
       " 'core strats',\n",
       " 'core strats standard',\n",
       " 'correct',\n",
       " 'count',\n",
       " 'counting',\n",
       " 'couple',\n",
       " 'course',\n",
       " 'create',\n",
       " 'created',\n",
       " 'creating',\n",
       " 'creative',\n",
       " 'creative racket',\n",
       " 'creative racket competition',\n",
       " 'cross',\n",
       " 'cross platform',\n",
       " 'cryptography',\n",
       " 'cs',\n",
       " 'cs syd',\n",
       " 'cs syd announcing',\n",
       " 'css',\n",
       " 'css javascript',\n",
       " 'current',\n",
       " 'current state',\n",
       " 'custom',\n",
       " 'custom types',\n",
       " 'dart',\n",
       " 'data',\n",
       " 'data apis',\n",
       " 'data apis efficiently',\n",
       " 'data list',\n",
       " 'data oriented',\n",
       " 'data oriented programming',\n",
       " 'data science',\n",
       " 'data type',\n",
       " 'data types',\n",
       " 'database',\n",
       " 'databass',\n",
       " 'datatypes',\n",
       " 'date',\n",
       " 'day',\n",
       " 'day 01',\n",
       " 'day 01 solutions',\n",
       " 'day 10',\n",
       " 'day solution',\n",
       " 'days',\n",
       " 'db',\n",
       " 'debugging',\n",
       " 'dec',\n",
       " 'december',\n",
       " 'december 2021',\n",
       " 'declarative',\n",
       " 'declarative guis',\n",
       " 'dedicated',\n",
       " 'deep',\n",
       " 'default',\n",
       " 'define',\n",
       " 'defined',\n",
       " 'defining',\n",
       " 'definition',\n",
       " 'defun',\n",
       " 'delete',\n",
       " 'delivery',\n",
       " 'demo',\n",
       " 'demo app',\n",
       " 'demo app common',\n",
       " 'denotational',\n",
       " 'dependencies',\n",
       " 'dependency',\n",
       " 'dependent',\n",
       " 'dependent types',\n",
       " 'depending',\n",
       " 'deploy',\n",
       " 'deriving',\n",
       " 'deriving trans',\n",
       " 'design',\n",
       " 'design access',\n",
       " 'design access connections',\n",
       " 'design flexibility',\n",
       " 'desktop',\n",
       " 'detect',\n",
       " 'deterministic',\n",
       " 'dev',\n",
       " 'developer',\n",
       " 'developer bellroy',\n",
       " 'developer bellroy remote',\n",
       " 'developer role',\n",
       " 'developers',\n",
       " 'developers remote',\n",
       " 'developers remote worldwide',\n",
       " 'development',\n",
       " 'development languages',\n",
       " 'development languages haskell',\n",
       " 'devs',\n",
       " 'devs hackers',\n",
       " 'devs hackers start',\n",
       " 'dexador',\n",
       " 'dialect',\n",
       " 'dialects',\n",
       " 'dialects lisp',\n",
       " 'dict',\n",
       " 'did',\n",
       " 'didn',\n",
       " 'different',\n",
       " 'different types',\n",
       " 'differentiation',\n",
       " 'directly',\n",
       " 'director',\n",
       " 'directory',\n",
       " 'dirty',\n",
       " 'discord',\n",
       " 'discovering',\n",
       " 'discussion',\n",
       " 'dispatch',\n",
       " 'display',\n",
       " 'distributed',\n",
       " 'docker',\n",
       " 'document',\n",
       " 'documentation',\n",
       " 'documents',\n",
       " 'does',\n",
       " 'does anybody',\n",
       " 'does cons',\n",
       " 'does cons list',\n",
       " ...]"
      ]
     },
     "execution_count": 53,
     "metadata": {},
     "output_type": "execute_result"
    }
   ],
   "source": [
    "list(X.columns)"
   ]
  },
  {
   "cell_type": "code",
   "execution_count": 54,
   "id": "616fe648",
   "metadata": {},
   "outputs": [],
   "source": [
    "X_train, X_test, y_train, y_test = train_test_split(X, y, random_state=2023, stratify = y, test_size = 0.33)"
   ]
  },
  {
   "cell_type": "markdown",
   "id": "01636598",
   "metadata": {},
   "source": [
    "## Apply Models"
   ]
  },
  {
   "cell_type": "markdown",
   "id": "1cd1e668",
   "metadata": {},
   "source": [
    "### MultinomialNaiveBayes"
   ]
  },
  {
   "cell_type": "code",
   "execution_count": 215,
   "id": "ae03a50a",
   "metadata": {
    "scrolled": false
   },
   "outputs": [
    {
     "name": "stdout",
     "output_type": "stream",
     "text": [
      "Wall time: 5.2 s\n"
     ]
    },
    {
     "data": {
      "text/plain": [
       "<sklearn.metrics._plot.confusion_matrix.ConfusionMatrixDisplay at 0x2a000011c70>"
      ]
     },
     "execution_count": 215,
     "metadata": {},
     "output_type": "execute_result"
    },
    {
     "data": {
      "image/png": "[encoded data removed]",
      "text/plain": [
       "<Figure size 432x288 with 2 Axes>"
      ]
     },
     "metadata": {},
     "output_type": "display_data"
    }
   ],
   "source": [
    "%%time\n",
    "mnb = MultinomialNB()\n",
    "mnb.fit(X_train, y_train)\n",
    "\n",
    "\n",
    "plot_confusion_matrix(mnb, X_test, y_test, display_labels=('lisp', 'haskell'))"
   ]
  },
  {
   "cell_type": "code",
   "execution_count": 220,
   "id": "6d02f4ee",
   "metadata": {},
   "outputs": [
    {
     "data": {
      "text/plain": [
       "(0.9216417910447762, 0.9227272727272727)"
      ]
     },
     "execution_count": 220,
     "metadata": {},
     "output_type": "execute_result"
    }
   ],
   "source": [
    "mnb.score(X_train,y_train), mnb.score(X_test,y_test)"
   ]
  },
  {
   "cell_type": "code",
   "execution_count": 216,
   "id": "78d2416d",
   "metadata": {},
   "outputs": [],
   "source": [
    "preds = mnb.predict(X_test)"
   ]
  },
  {
   "cell_type": "code",
   "execution_count": 217,
   "id": "8e6dead8",
   "metadata": {},
   "outputs": [
    {
     "data": {
      "text/plain": [
       "0.9227272727272727"
      ]
     },
     "execution_count": 217,
     "metadata": {},
     "output_type": "execute_result"
    }
   ],
   "source": [
    "accuracy_score(y_test, preds)"
   ]
  },
  {
   "cell_type": "code",
   "execution_count": 218,
   "id": "60f40ec7",
   "metadata": {},
   "outputs": [
    {
     "data": {
      "text/plain": [
       "0.8454545454545455"
      ]
     },
     "execution_count": 218,
     "metadata": {},
     "output_type": "execute_result"
    }
   ],
   "source": [
    "recall_score(y_test, preds)"
   ]
  },
  {
   "cell_type": "code",
   "execution_count": 219,
   "id": "10d70331",
   "metadata": {},
   "outputs": [
    {
     "data": {
      "text/plain": [
       "1.0"
      ]
     },
     "execution_count": 219,
     "metadata": {},
     "output_type": "execute_result"
    }
   ],
   "source": [
    "precision_score(y_test, preds)"
   ]
  },
  {
   "cell_type": "markdown",
   "id": "50d2987b",
   "metadata": {},
   "source": [
    "This model fit quickly and is nicely accurate."
   ]
  },
  {
   "cell_type": "markdown",
   "id": "0786f202",
   "metadata": {},
   "source": [
    "### DecisionTreeClassifier"
   ]
  },
  {
   "cell_type": "code",
   "execution_count": 221,
   "id": "273086ae",
   "metadata": {
    "scrolled": true
   },
   "outputs": [
    {
     "name": "stdout",
     "output_type": "stream",
     "text": [
      "Wall time: 2.51 s\n"
     ]
    },
    {
     "data": {
      "text/plain": [
       "<sklearn.metrics._plot.confusion_matrix.ConfusionMatrixDisplay at 0x2a05c291070>"
      ]
     },
     "execution_count": 221,
     "metadata": {},
     "output_type": "execute_result"
    },
    {
     "data": {
      "image/png": "[encoded data removed]",
      "text/plain": [
       "<Figure size 432x288 with 2 Axes>"
      ]
     },
     "metadata": {},
     "output_type": "display_data"
    }
   ],
   "source": [
    "%%time\n",
    "# do the same with other classifiers.\n",
    "dtc = DecisionTreeClassifier()\n",
    "\n",
    "dtc.fit(X_train, y_train)\n",
    "plot_confusion_matrix(dtc, X_test, y_test);"
   ]
  },
  {
   "cell_type": "code",
   "execution_count": 222,
   "id": "ab054e58",
   "metadata": {},
   "outputs": [
    {
     "data": {
      "text/plain": [
       "(1.0, 1.0)"
      ]
     },
     "execution_count": 222,
     "metadata": {},
     "output_type": "execute_result"
    }
   ],
   "source": [
    "dtc.score(X_train, y_train), dtc.score(X_test, y_test)"
   ]
  },
  {
   "cell_type": "code",
   "execution_count": 298,
   "id": "6d7eaa2a",
   "metadata": {
    "scrolled": false
   },
   "outputs": [
    {
     "data": {
      "text/plain": [
       "<sklearn.metrics._plot.confusion_matrix.ConfusionMatrixDisplay at 0x1a6807b0160>"
      ]
     },
     "execution_count": 298,
     "metadata": {},
     "output_type": "execute_result"
    },
    {
     "data": {
      "image/png": "[encoded data removed]",
      "text/plain": [
       "<Figure size 432x288 with 2 Axes>"
      ]
     },
     "metadata": {},
     "output_type": "display_data"
    }
   ],
   "source": [
    "plot_confusion_matrix(dtc, X_train, y_train);"
   ]
  },
  {
   "cell_type": "code",
   "execution_count": 229,
   "id": "57c5e8c4",
   "metadata": {
    "scrolled": false
   },
   "outputs": [
    {
     "name": "stdout",
     "output_type": "stream",
     "text": [
      "Wall time: 752 ms\n"
     ]
    },
    {
     "data": {
      "text/plain": [
       "array([0., 1., 0., 0., 0., 0., 0., 0., 1., 1., 1., 0., 1., 1., 0., 0., 0.,\n",
       "       0., 0., 0., 0., 1., 1., 1., 0., 1., 1., 1., 0., 0., 0., 0., 1., 1.,\n",
       "       1., 1., 0., 1., 1., 0., 1., 1., 1., 0., 1., 1., 1., 1., 0., 1., 0.,\n",
       "       0., 1., 0., 1., 0., 0., 1., 0., 1., 1., 0., 0., 1., 0., 1., 0., 0.,\n",
       "       0., 0., 1., 0., 1., 0., 0., 0., 0., 1., 0., 0., 0., 0., 0., 1., 0.,\n",
       "       1., 1., 1., 1., 1., 0., 1., 0., 0., 1., 1., 0., 1., 0., 0., 0., 0.,\n",
       "       1., 0., 0., 0., 0., 1., 1., 0., 1., 1., 1., 1., 1., 0., 0., 1., 0.,\n",
       "       0., 1., 0., 0., 0., 0., 1., 1., 1., 0., 1., 0., 0., 1., 0., 1., 0.,\n",
       "       1., 1., 0., 0., 1., 1., 1., 1., 1., 1., 1., 0., 0., 1., 0., 1., 0.,\n",
       "       0., 1., 0., 1., 0., 1., 1., 1., 0., 0., 0., 1., 0., 1., 0., 1., 1.,\n",
       "       0., 1., 1., 1., 0., 0., 0., 1., 1., 0., 0., 1., 0., 1., 1., 0., 0.,\n",
       "       0., 0., 0., 1., 1., 0., 0., 0., 0., 1., 1., 1., 0., 0., 1., 1., 1.,\n",
       "       1., 0., 0., 0., 0., 0., 0., 1., 1., 0., 1., 1., 0., 0., 0., 1., 1.,\n",
       "       1., 0., 0., 0., 0., 1., 1., 1., 0., 1., 0., 1., 1., 1., 1., 0., 1.,\n",
       "       1., 1., 0., 1., 1., 1., 1., 0., 1., 0., 0., 1., 0., 1., 1., 1., 1.,\n",
       "       0., 1., 1., 0., 1., 0., 0., 1., 1., 0., 1., 1., 1., 1., 1., 0., 0.,\n",
       "       0., 1., 0., 0., 0., 0., 0., 1., 1., 1., 1., 1., 1., 1., 0., 0., 1.,\n",
       "       1., 1., 1., 0., 1., 1., 0., 1., 1., 1., 1., 1., 0., 0., 0., 1., 0.,\n",
       "       0., 1., 0., 0., 1., 0., 0., 1., 1., 0., 0., 1., 1., 0., 0., 0., 0.,\n",
       "       1., 1., 0., 0., 0., 0., 0., 1., 1., 0., 0., 1., 0., 0., 1., 1., 0.,\n",
       "       1., 0., 0., 0., 1., 0., 0., 0., 0., 0., 0., 0., 0., 1., 0., 1., 0.,\n",
       "       0., 1., 1., 1., 0., 1., 0., 0., 0., 0., 1., 1., 1., 0., 0., 0., 1.,\n",
       "       0., 0., 1., 0., 1., 0., 1., 0., 1., 0., 0., 0., 0., 0., 1., 1., 0.,\n",
       "       0., 1., 0., 1., 0., 1., 0., 1., 1., 0., 0., 0., 1., 0., 0., 1., 0.,\n",
       "       0., 0., 0., 1., 0., 1., 1., 1., 1., 1., 1., 0., 1., 0., 0., 0., 1.,\n",
       "       1., 0., 0., 1., 1., 0., 1., 0., 0., 1., 0., 1., 1., 1., 1., 1., 0.,\n",
       "       1., 1., 1., 0., 1., 0., 1., 1., 0., 0., 0., 0., 1., 1., 1., 1., 1.,\n",
       "       1., 1., 1., 0., 1., 0., 1., 0., 0., 0., 0., 0., 0., 0., 1., 0., 1.,\n",
       "       0., 1., 1., 1., 1., 0., 0., 1., 0., 0., 0., 1., 1., 0., 1., 0., 0.,\n",
       "       0., 1., 1., 0., 0., 1., 1., 0., 1., 0., 1., 1., 1., 0., 1., 1., 0.,\n",
       "       1., 0., 0., 0., 1., 0., 0., 0., 0., 0., 1., 1., 1., 1., 1., 1., 1.,\n",
       "       1., 0., 0., 1., 1., 1., 0., 0., 0., 1., 0., 1., 0., 0., 1., 1., 1.,\n",
       "       0., 0., 0., 1., 0., 0., 1., 1., 0., 1., 0., 0., 1., 1., 1., 0., 0.,\n",
       "       1., 1., 1., 0., 0., 0., 0., 0., 0., 0., 1., 0., 0., 1., 0., 1., 1.,\n",
       "       1., 0., 0., 0., 1., 0., 1., 1., 0., 0., 0., 1., 0., 1., 1., 1., 1.,\n",
       "       0., 1., 1., 1., 1., 1., 1., 1., 0., 1., 1., 1., 1., 0., 1., 1., 1.,\n",
       "       0., 0., 0., 1., 0., 1., 1., 1., 0., 1., 0., 0., 1., 0., 1., 1., 1.,\n",
       "       0., 1., 0., 0., 1., 1., 0., 1., 1., 0., 1., 1., 0., 1., 1., 0., 0.,\n",
       "       0., 1., 0., 1., 0., 0., 0., 1., 1., 0., 1., 1., 1., 0.])"
      ]
     },
     "execution_count": 229,
     "metadata": {},
     "output_type": "execute_result"
    }
   ],
   "source": [
    "#time a prediction\n",
    "%%time\n",
    "dtc.predict(X_test);"
   ]
  },
  {
   "cell_type": "code",
   "execution_count": 230,
   "id": "3725fe20",
   "metadata": {
    "scrolled": true
   },
   "outputs": [
    {
     "data": {
      "text/plain": [
       "1.1393939393939394"
      ]
     },
     "execution_count": 230,
     "metadata": {},
     "output_type": "execute_result"
    }
   ],
   "source": [
    "#time per observation in milliseconds\n",
    "752/len(X_test)"
   ]
  },
  {
   "cell_type": "markdown",
   "id": "ea0bc2d8",
   "metadata": {},
   "source": [
    "This model performed exceptionally well. Every object was correctly classified in both the training and test sets."
   ]
  },
  {
   "cell_type": "markdown",
   "id": "12d0f4eb",
   "metadata": {},
   "source": [
    "### ExtraTreesClassifier"
   ]
  },
  {
   "cell_type": "code",
   "execution_count": 300,
   "id": "5002b0ae",
   "metadata": {},
   "outputs": [
    {
     "data": {
      "text/plain": [
       "(1.0, 0.996969696969697)"
      ]
     },
     "execution_count": 300,
     "metadata": {},
     "output_type": "execute_result"
    }
   ],
   "source": [
    "etc = ExtraTreeClassifier()\n",
    "etc.fit(X_train, y_train)\n",
    "etc.score(X_train, y_train), etc.score(X_test, y_test)\n"
   ]
  },
  {
   "cell_type": "code",
   "execution_count": 301,
   "id": "ff74db50",
   "metadata": {},
   "outputs": [
    {
     "data": {
      "text/plain": [
       "<sklearn.metrics._plot.confusion_matrix.ConfusionMatrixDisplay at 0x1a6e2bf2250>"
      ]
     },
     "execution_count": 301,
     "metadata": {},
     "output_type": "execute_result"
    },
    {
     "data": {
      "image/png": "[encoded data removed]",
      "text/plain": [
       "<Figure size 432x288 with 2 Axes>"
      ]
     },
     "metadata": {},
     "output_type": "display_data"
    }
   ],
   "source": [
    "plot_confusion_matrix(etc, X_train, y_train)"
   ]
  },
  {
   "cell_type": "code",
   "execution_count": 302,
   "id": "05d9477f",
   "metadata": {
    "scrolled": true
   },
   "outputs": [
    {
     "data": {
      "text/plain": [
       "<sklearn.metrics._plot.confusion_matrix.ConfusionMatrixDisplay at 0x1a6e439df70>"
      ]
     },
     "execution_count": 302,
     "metadata": {},
     "output_type": "execute_result"
    },
    {
     "data": {
      "image/png": "[encoded data removed]",
      "text/plain": [
       "<Figure size 432x288 with 2 Axes>"
      ]
     },
     "metadata": {},
     "output_type": "display_data"
    }
   ],
   "source": [
    "plot_confusion_matrix(etc, X_test, y_test)"
   ]
  },
  {
   "cell_type": "markdown",
   "id": "21e16365",
   "metadata": {},
   "source": [
    "Not quite as good as the DecisionTreeClassifier, but almost perfect. Only two of 660 observations in the test set misclassified. "
   ]
  },
  {
   "cell_type": "markdown",
   "id": "b198d6f0",
   "metadata": {},
   "source": [
    "### SVC"
   ]
  },
  {
   "cell_type": "code",
   "execution_count": 324,
   "id": "e1c4f910",
   "metadata": {},
   "outputs": [
    {
     "name": "stdout",
     "output_type": "stream",
     "text": [
      "Wall time: 17.9 s\n"
     ]
    },
    {
     "data": {
      "text/plain": [
       "(0.5044776119402985, 0.5045454545454545)"
      ]
     },
     "execution_count": 324,
     "metadata": {},
     "output_type": "execute_result"
    }
   ],
   "source": [
    "%%time\n",
    "\n",
    "svc = SVC()\n",
    "svc.fit(X_train, y_train)\n",
    "\n",
    "ss = StandardScaler()\n",
    "Xs_train = ss.fit_transform(X_train)\n",
    "Xs_test = ss.transform(X_test)\n",
    "\n",
    "svc.score(Xs_train,y_train), svc.score(Xs_test, y_test)"
   ]
  },
  {
   "cell_type": "code",
   "execution_count": 325,
   "id": "3ec07b12",
   "metadata": {},
   "outputs": [
    {
     "data": {
      "text/plain": [
       "<sklearn.metrics._plot.confusion_matrix.ConfusionMatrixDisplay at 0x1a6e369ff70>"
      ]
     },
     "execution_count": 325,
     "metadata": {},
     "output_type": "execute_result"
    },
    {
     "data": {
      "image/png": "[encoded data removed]",
      "text/plain": [
       "<Figure size 432x288 with 2 Axes>"
      ]
     },
     "metadata": {},
     "output_type": "display_data"
    }
   ],
   "source": [
    "#The default SVC performed quite poorly!\n",
    "plot_confusion_matrix(svc, Xs_train, y_train)"
   ]
  },
  {
   "cell_type": "code",
   "execution_count": 326,
   "id": "27a7ecbd",
   "metadata": {
    "scrolled": true
   },
   "outputs": [
    {
     "data": {
      "text/plain": [
       "<sklearn.metrics._plot.confusion_matrix.ConfusionMatrixDisplay at 0x1a6e5424e80>"
      ]
     },
     "execution_count": 326,
     "metadata": {},
     "output_type": "execute_result"
    },
    {
     "data": {
      "image/png": "[encoded data removed]",
      "text/plain": [
       "<Figure size 432x288 with 2 Axes>"
      ]
     },
     "metadata": {},
     "output_type": "display_data"
    }
   ],
   "source": [
    "plot_confusion_matrix(svc, Xs_test, y_test)"
   ]
  },
  {
   "cell_type": "markdown",
   "id": "bb73c36a",
   "metadata": {},
   "source": [
    "This one performed terribly. We started with balanced classes, implying a baseline accuracy of 0.50. This one almost universally picks haskell over lisp."
   ]
  },
  {
   "cell_type": "markdown",
   "id": "dd78a44d",
   "metadata": {},
   "source": [
    "### LogRegCV\n",
    "\n",
    "Takes a little while to fit, but not even a minute."
   ]
  },
  {
   "cell_type": "code",
   "execution_count": 224,
   "id": "81ed6eee",
   "metadata": {},
   "outputs": [
    {
     "name": "stdout",
     "output_type": "stream",
     "text": [
      "Wall time: 36.8 s\n"
     ]
    },
    {
     "data": {
      "text/plain": [
       "(1.0, 0.996969696969697)"
      ]
     },
     "execution_count": 224,
     "metadata": {},
     "output_type": "execute_result"
    }
   ],
   "source": [
    "%%time\n",
    "lr = LogisticRegressionCV(max_iter=5_000_000, n_jobs=-1)\n",
    "\n",
    "ss = StandardScaler()\n",
    "Xs_train = ss.fit_transform(X_train)\n",
    "Xs_test = ss.transform(X_test)\n",
    "\n",
    "lr.fit(Xs_train, y_train)\n",
    "lr.score(Xs_train, y_train), lr.score(Xs_test, y_test)"
   ]
  },
  {
   "cell_type": "code",
   "execution_count": 312,
   "id": "47928898",
   "metadata": {},
   "outputs": [
    {
     "data": {
      "text/plain": [
       "<sklearn.metrics._plot.confusion_matrix.ConfusionMatrixDisplay at 0x1a6ff833280>"
      ]
     },
     "execution_count": 312,
     "metadata": {},
     "output_type": "execute_result"
    },
    {
     "data": {
      "image/png": "[encoded data removed]",
      "text/plain": [
       "<Figure size 432x288 with 2 Axes>"
      ]
     },
     "metadata": {},
     "output_type": "display_data"
    }
   ],
   "source": [
    "plot_confusion_matrix(lr, X_train, y_train)"
   ]
  },
  {
   "cell_type": "code",
   "execution_count": 313,
   "id": "6ade5d16",
   "metadata": {
    "scrolled": true
   },
   "outputs": [
    {
     "data": {
      "text/plain": [
       "<sklearn.metrics._plot.confusion_matrix.ConfusionMatrixDisplay at 0x1a6a4633220>"
      ]
     },
     "execution_count": 313,
     "metadata": {},
     "output_type": "execute_result"
    },
    {
     "data": {
      "image/png": "[encoded data removed]",
      "text/plain": [
       "<Figure size 432x288 with 2 Axes>"
      ]
     },
     "metadata": {},
     "output_type": "display_data"
    }
   ],
   "source": [
    "plot_confusion_matrix(lr, X_test, y_test)"
   ]
  },
  {
   "cell_type": "code",
   "execution_count": null,
   "id": "7d268739",
   "metadata": {},
   "outputs": [],
   "source": [
    "Those scores are almost perfect."
   ]
  },
  {
   "cell_type": "markdown",
   "id": "763c4b1d",
   "metadata": {},
   "source": [
    "### RandomForest"
   ]
  },
  {
   "cell_type": "code",
   "execution_count": 225,
   "id": "b2001591",
   "metadata": {
    "scrolled": false
   },
   "outputs": [
    {
     "name": "stdout",
     "output_type": "stream",
     "text": [
      "Wall time: 6.83 s\n"
     ]
    },
    {
     "data": {
      "text/plain": [
       "(1.0, 1.0)"
      ]
     },
     "execution_count": 225,
     "metadata": {},
     "output_type": "execute_result"
    }
   ],
   "source": [
    "%%time\n",
    "rf = RandomForestClassifier()\n",
    "\n",
    "rf.fit(X_train, y_train)\n",
    "rf.score(X_train, y_train), rf.score(X_test, y_test)"
   ]
  },
  {
   "cell_type": "markdown",
   "id": "b7cbcb33",
   "metadata": {},
   "source": [
    "Perfect accuracy. This still takes nearly three times as long as the DecisionTreeClassifier."
   ]
  },
  {
   "cell_type": "markdown",
   "id": "be15a955",
   "metadata": {},
   "source": [
    "---\n",
    "---\n",
    "# Model Selection\n",
    "---\n",
    "The sklearn default DecisionTreeClassifier() performed with perfect accuracy on the data.\n",
    "In the short term, I would be confident in applying this to new r/haskell and r/lisp posts and getting a correct classification.\n",
    "\n",
    "The problem is, it is catching a lot of instances of the word 'lisp' within the texts. The decision tree is likely dividing the data based on these right away, with the first few branches. It would be worth the time to examine the function of the fit decision tree classifier, to confirm this. This model is likely performing very well through a kind of loophole. Removing these words and retraining would be a good start to establishing the robustness of the model.\n",
    "\n",
    "As time progresses, even a model like this may lose its accuracy on new posts. New events and ideas in these programming communities will shape the text in Reddit posts. The culture within the subreddits may change as well. As time continues on, perhaps on a year-long time-scale, this classifier will begin to perform more poorly as it was fit on outdated language. It would need to be retrained periodically if it were to be used to classify subreddits.\n",
    "\n",
    "---\n",
    "\n"
   ]
  },
  {
   "cell_type": "markdown",
   "id": "20ec8fbe",
   "metadata": {},
   "source": [
    "# Future Considerations\n",
    "\n",
    "It would be quite interesting to construct a comment tree for each post with comments based on parent-id-linking of appropriate comment data. I believe some differences in the shape and size of these trees could reveal commenting habits and conversation style differences between the subreddits, aiding in classification.\n",
    "\n",
    "---"
   ]
  },
  {
   "cell_type": "code",
   "execution_count": null,
   "id": "ea3fcb9c",
   "metadata": {},
   "outputs": [],
   "source": []
  }
 ],
 "metadata": {
  "kernelspec": {
   "display_name": "Python 3 (ipykernel)",
   "language": "python",
   "name": "python3"
  },
  "language_info": {
   "codemirror_mode": {
    "name": "ipython",
    "version": 3
   },
   "file_extension": ".py",
   "mimetype": "text/x-python",
   "name": "python",
   "nbconvert_exporter": "python",
   "pygments_lexer": "ipython3",
   "version": "3.9.7"
  }
 },
 "nbformat": 4,
 "nbformat_minor": 5
}
